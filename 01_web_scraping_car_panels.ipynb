{
  "cells": [
    {
      "cell_type": "markdown",
      "source": [
        "## Web Scraping Car Damage Images from a Website"
      ],
      "metadata": {
        "id": "y4heJj6joy2q"
      }
    },
    {
      "cell_type": "markdown",
      "source": [
        "***Reminder:*** *Before scraping any website, make sure to check the website policies and follow the rules on how to scrape websites ethically.*"
      ],
      "metadata": {
        "id": "W8iqM4fao-a3"
      }
    },
    {
      "cell_type": "code",
      "execution_count": 1,
      "metadata": {
        "colab": {
          "base_uri": "https://localhost:8080/"
        },
        "id": "HETcHKN4JgMY",
        "outputId": "55f0724f-42bc-4c76-8832-027c24fec28a",
        "collapsed": true
      },
      "outputs": [
        {
          "output_type": "stream",
          "name": "stdout",
          "text": [
            "Collecting selenium\n",
            "  Downloading selenium-4.28.1-py3-none-any.whl.metadata (7.1 kB)\n",
            "Collecting undetected_chromedriver\n",
            "  Downloading undetected-chromedriver-3.5.5.tar.gz (65 kB)\n",
            "\u001b[2K     \u001b[90m━━━━━━━━━━━━━━━━━━━━━━━━━━━━━━━━━━━━━━━━\u001b[0m \u001b[32m65.4/65.4 kB\u001b[0m \u001b[31m4.3 MB/s\u001b[0m eta \u001b[36m0:00:00\u001b[0m\n",
            "\u001b[?25h  Preparing metadata (setup.py) ... \u001b[?25l\u001b[?25hdone\n",
            "Requirement already satisfied: beautifulsoup4 in /usr/local/lib/python3.11/dist-packages (4.13.3)\n",
            "Requirement already satisfied: pandas in /usr/local/lib/python3.11/dist-packages (2.2.2)\n",
            "Requirement already satisfied: pyarrow in /usr/local/lib/python3.11/dist-packages (17.0.0)\n",
            "Requirement already satisfied: Pillow in /usr/local/lib/python3.11/dist-packages (11.1.0)\n",
            "Requirement already satisfied: requests in /usr/local/lib/python3.11/dist-packages (2.32.3)\n",
            "Collecting selenium-wire\n",
            "  Downloading selenium_wire-5.1.0-py3-none-any.whl.metadata (49 kB)\n",
            "\u001b[2K     \u001b[90m━━━━━━━━━━━━━━━━━━━━━━━━━━━━━━━━━━━━━━━━\u001b[0m \u001b[32m49.4/49.4 kB\u001b[0m \u001b[31m4.2 MB/s\u001b[0m eta \u001b[36m0:00:00\u001b[0m\n",
            "\u001b[?25hRequirement already satisfied: urllib3<3,>=1.26 in /usr/local/lib/python3.11/dist-packages (from urllib3[socks]<3,>=1.26->selenium) (2.3.0)\n",
            "Collecting trio~=0.17 (from selenium)\n",
            "  Downloading trio-0.29.0-py3-none-any.whl.metadata (8.5 kB)\n",
            "Collecting trio-websocket~=0.9 (from selenium)\n",
            "  Downloading trio_websocket-0.12.1-py3-none-any.whl.metadata (5.1 kB)\n",
            "Requirement already satisfied: certifi>=2021.10.8 in /usr/local/lib/python3.11/dist-packages (from selenium) (2025.1.31)\n",
            "Requirement already satisfied: typing_extensions~=4.9 in /usr/local/lib/python3.11/dist-packages (from selenium) (4.12.2)\n",
            "Requirement already satisfied: websocket-client~=1.8 in /usr/local/lib/python3.11/dist-packages (from selenium) (1.8.0)\n",
            "Requirement already satisfied: websockets in /usr/local/lib/python3.11/dist-packages (from undetected_chromedriver) (14.2)\n",
            "Requirement already satisfied: soupsieve>1.2 in /usr/local/lib/python3.11/dist-packages (from beautifulsoup4) (2.6)\n",
            "Requirement already satisfied: numpy>=1.23.2 in /usr/local/lib/python3.11/dist-packages (from pandas) (1.26.4)\n",
            "Requirement already satisfied: python-dateutil>=2.8.2 in /usr/local/lib/python3.11/dist-packages (from pandas) (2.8.2)\n",
            "Requirement already satisfied: pytz>=2020.1 in /usr/local/lib/python3.11/dist-packages (from pandas) (2025.1)\n",
            "Requirement already satisfied: tzdata>=2022.7 in /usr/local/lib/python3.11/dist-packages (from pandas) (2025.1)\n",
            "Requirement already satisfied: charset-normalizer<4,>=2 in /usr/local/lib/python3.11/dist-packages (from requests) (3.4.1)\n",
            "Requirement already satisfied: idna<4,>=2.5 in /usr/local/lib/python3.11/dist-packages (from requests) (3.10)\n",
            "Requirement already satisfied: blinker>=1.4 in /usr/local/lib/python3.11/dist-packages (from selenium-wire) (1.9.0)\n",
            "Collecting brotli>=1.0.9 (from selenium-wire)\n",
            "  Downloading Brotli-1.1.0-cp311-cp311-manylinux_2_17_x86_64.manylinux2014_x86_64.whl.metadata (5.5 kB)\n",
            "Collecting kaitaistruct>=0.7 (from selenium-wire)\n",
            "  Downloading kaitaistruct-0.10-py2.py3-none-any.whl.metadata (2.5 kB)\n",
            "Requirement already satisfied: pyasn1>=0.3.1 in /usr/local/lib/python3.11/dist-packages (from selenium-wire) (0.6.1)\n",
            "Requirement already satisfied: pyOpenSSL>=22.0.0 in /usr/local/lib/python3.11/dist-packages (from selenium-wire) (24.2.1)\n",
            "Requirement already satisfied: pyparsing>=2.4.2 in /usr/local/lib/python3.11/dist-packages (from selenium-wire) (3.2.1)\n",
            "Requirement already satisfied: pysocks>=1.7.1 in /usr/local/lib/python3.11/dist-packages (from selenium-wire) (1.7.1)\n",
            "Collecting wsproto>=0.14 (from selenium-wire)\n",
            "  Downloading wsproto-1.2.0-py3-none-any.whl.metadata (5.6 kB)\n",
            "Requirement already satisfied: zstandard>=0.14.1 in /usr/local/lib/python3.11/dist-packages (from selenium-wire) (0.23.0)\n",
            "Requirement already satisfied: h2>=4.0 in /usr/local/lib/python3.11/dist-packages (from selenium-wire) (4.2.0)\n",
            "Requirement already satisfied: hyperframe>=6.0 in /usr/local/lib/python3.11/dist-packages (from selenium-wire) (6.1.0)\n",
            "Requirement already satisfied: hpack<5,>=4.1 in /usr/local/lib/python3.11/dist-packages (from h2>=4.0->selenium-wire) (4.1.0)\n",
            "Requirement already satisfied: cryptography<44,>=41.0.5 in /usr/local/lib/python3.11/dist-packages (from pyOpenSSL>=22.0.0->selenium-wire) (43.0.3)\n",
            "Requirement already satisfied: six>=1.5 in /usr/local/lib/python3.11/dist-packages (from python-dateutil>=2.8.2->pandas) (1.17.0)\n",
            "Requirement already satisfied: attrs>=23.2.0 in /usr/local/lib/python3.11/dist-packages (from trio~=0.17->selenium) (25.1.0)\n",
            "Collecting sortedcontainers (from trio~=0.17->selenium)\n",
            "  Downloading sortedcontainers-2.4.0-py2.py3-none-any.whl.metadata (10 kB)\n",
            "Collecting outcome (from trio~=0.17->selenium)\n",
            "  Downloading outcome-1.3.0.post0-py2.py3-none-any.whl.metadata (2.6 kB)\n",
            "Requirement already satisfied: sniffio>=1.3.0 in /usr/local/lib/python3.11/dist-packages (from trio~=0.17->selenium) (1.3.1)\n",
            "Requirement already satisfied: h11<1,>=0.9.0 in /usr/local/lib/python3.11/dist-packages (from wsproto>=0.14->selenium-wire) (0.14.0)\n",
            "Requirement already satisfied: cffi>=1.12 in /usr/local/lib/python3.11/dist-packages (from cryptography<44,>=41.0.5->pyOpenSSL>=22.0.0->selenium-wire) (1.17.1)\n",
            "Requirement already satisfied: pycparser in /usr/local/lib/python3.11/dist-packages (from cffi>=1.12->cryptography<44,>=41.0.5->pyOpenSSL>=22.0.0->selenium-wire) (2.22)\n",
            "Downloading selenium-4.28.1-py3-none-any.whl (9.5 MB)\n",
            "\u001b[2K   \u001b[90m━━━━━━━━━━━━━━━━━━━━━━━━━━━━━━━━━━━━━━━━\u001b[0m \u001b[32m9.5/9.5 MB\u001b[0m \u001b[31m79.2 MB/s\u001b[0m eta \u001b[36m0:00:00\u001b[0m\n",
            "\u001b[?25hDownloading selenium_wire-5.1.0-py3-none-any.whl (239 kB)\n",
            "\u001b[2K   \u001b[90m━━━━━━━━━━━━━━━━━━━━━━━━━━━━━━━━━━━━━━━━\u001b[0m \u001b[32m239.6/239.6 kB\u001b[0m \u001b[31m21.2 MB/s\u001b[0m eta \u001b[36m0:00:00\u001b[0m\n",
            "\u001b[?25hDownloading Brotli-1.1.0-cp311-cp311-manylinux_2_17_x86_64.manylinux2014_x86_64.whl (2.9 MB)\n",
            "\u001b[2K   \u001b[90m━━━━━━━━━━━━━━━━━━━━━━━━━━━━━━━━━━━━━━━━\u001b[0m \u001b[32m2.9/2.9 MB\u001b[0m \u001b[31m79.0 MB/s\u001b[0m eta \u001b[36m0:00:00\u001b[0m\n",
            "\u001b[?25hDownloading kaitaistruct-0.10-py2.py3-none-any.whl (7.0 kB)\n",
            "Downloading trio-0.29.0-py3-none-any.whl (492 kB)\n",
            "\u001b[2K   \u001b[90m━━━━━━━━━━━━━━━━━━━━━━━━━━━━━━━━━━━━━━━━\u001b[0m \u001b[32m492.9/492.9 kB\u001b[0m \u001b[31m34.6 MB/s\u001b[0m eta \u001b[36m0:00:00\u001b[0m\n",
            "\u001b[?25hDownloading trio_websocket-0.12.1-py3-none-any.whl (21 kB)\n",
            "Downloading wsproto-1.2.0-py3-none-any.whl (24 kB)\n",
            "Downloading outcome-1.3.0.post0-py2.py3-none-any.whl (10 kB)\n",
            "Downloading sortedcontainers-2.4.0-py2.py3-none-any.whl (29 kB)\n",
            "Building wheels for collected packages: undetected_chromedriver\n",
            "  Building wheel for undetected_chromedriver (setup.py) ... \u001b[?25l\u001b[?25hdone\n",
            "  Created wheel for undetected_chromedriver: filename=undetected_chromedriver-3.5.5-py3-none-any.whl size=47048 sha256=9de88e829a5ba7457df12fcea3faba51813ada99a3023fd29122af4d85d22bf6\n",
            "  Stored in directory: /root/.cache/pip/wheels/5c/b9/03/4b6e38f019d6170e8c25df2e1e362d7bdf9ff4012df2dc85c0\n",
            "Successfully built undetected_chromedriver\n",
            "Installing collected packages: sortedcontainers, brotli, wsproto, outcome, kaitaistruct, trio, trio-websocket, selenium, undetected_chromedriver, selenium-wire\n",
            "Successfully installed brotli-1.1.0 kaitaistruct-0.10 outcome-1.3.0.post0 selenium-4.28.1 selenium-wire-5.1.0 sortedcontainers-2.4.0 trio-0.29.0 trio-websocket-0.12.1 undetected_chromedriver-3.5.5 wsproto-1.2.0\n"
          ]
        }
      ],
      "source": [
        "!pip install selenium undetected_chromedriver beautifulsoup4 pandas pyarrow Pillow requests selenium-wire"
      ]
    },
    {
      "cell_type": "markdown",
      "metadata": {
        "id": "3dwAkyginabG"
      },
      "source": [
        "### **Import Libraries**"
      ]
    },
    {
      "cell_type": "code",
      "execution_count": 2,
      "metadata": {
        "id": "sMnyUdukJlyZ"
      },
      "outputs": [],
      "source": [
        "# import undetected_chromedriver as uc\n",
        "import hashlib, io, requests, pandas as pd\n",
        "import time\n",
        "import random\n",
        "\n",
        "from selenium.webdriver.common.by import By\n",
        "from selenium import webdriver\n",
        "from selenium.webdriver import ChromeOptions\n",
        "# from seleniumwire import webdriver\n",
        "\n",
        "from bs4 import BeautifulSoup\n",
        "from pathlib import Path\n",
        "from PIL import Image"
      ]
    },
    {
      "cell_type": "markdown",
      "metadata": {
        "id": "prmfLvvOnfUl"
      },
      "source": [
        "### **Mount Drive**"
      ]
    },
    {
      "cell_type": "code",
      "execution_count": 3,
      "metadata": {
        "colab": {
          "base_uri": "https://localhost:8080/"
        },
        "id": "-5U7qw4jJoK3",
        "outputId": "0c7e692c-6ae3-4e63-b2df-0f4051616988"
      },
      "outputs": [
        {
          "output_type": "stream",
          "name": "stdout",
          "text": [
            "Mounted at /content/drive/\n"
          ]
        }
      ],
      "source": [
        "from google.colab import drive\n",
        "drive.mount('/content/drive/')"
      ]
    },
    {
      "cell_type": "markdown",
      "metadata": {
        "id": "5U-46HGFnj2A"
      },
      "source": [
        "### **Launch the WebDriver to open a target URL**\n",
        "Configure Chrome Options"
      ]
    },
    {
      "cell_type": "code",
      "execution_count": 4,
      "metadata": {
        "id": "ulI0QSBwJq5H"
      },
      "outputs": [],
      "source": [
        "options = ChromeOptions()\n",
        "options.add_argument(\"--headless=new\")\n",
        "options.add_argument('--no-sandbox')\n",
        "options.add_argument('--disable-dev-shm-usage')\n",
        "options.add_argument(\"--user-agent=Mozilla/5.0 (Windows NT 10.0; Win64; x64) AppleWebKit/537.36 (KHTML, like Gecko) Chrome/79.0.3945.130 Safari/537.36\")\n",
        "# driver = webdriver.Chrome('chromedriver',chrome_options=chrome_options)\n",
        "driver = webdriver.Chrome(options=options)"
      ]
    },
    {
      "cell_type": "markdown",
      "source": [
        "### **Extracting Page URLs**\n",
        "Each url/page contains the photos for every listed car. Each page will have around 12 photos for the specific car brand. These contains internal and external photos of the car. We only need the external photos so we will be only be extracting those later on.\n",
        "\n",
        "**Note**: When you encounter a connection error to the website, just rerun the chrome configuration options cell."
      ],
      "metadata": {
        "id": "fOQxEOuPUOKh"
      }
    },
    {
      "cell_type": "markdown",
      "metadata": {
        "id": "z__ECvcsuq2J"
      },
      "source": [
        "Images are from AutobidMaster Website. URLS should be extracted for front, rear, and side panels. The same process should be repeated for each panel."
      ]
    },
    {
      "cell_type": "code",
      "execution_count": 8,
      "metadata": {
        "id": "Oy_rSc9zk9No"
      },
      "outputs": [],
      "source": [
        "## empty list to store the url\n",
        "page_urls = []\n",
        "\n",
        "## the range indicates the number of pages in the website\n",
        "## let's try 30 pages for now\n",
        "for i in range(1, 30):\n",
        "  url = f\"https://www.autobidmaster.com/en/search/make-toyota,lexus,suzuki/doc-type-c,s/damage-front+end/?page={i}\"\n",
        "  driver.get(url)\n",
        "  time.sleep(random.randint(1,30))\n",
        "  elements = driver.find_elements(By.CLASS_NAME, \"_1dGf-ymm\")\n",
        "\n",
        "  for item in elements:\n",
        "    # print(img)\n",
        "    page_urls.append(item.get_attribute('href'))\n",
        "\n",
        "driver.quit()"
      ]
    },
    {
      "cell_type": "markdown",
      "source": [
        "Repeat the process until you finish extracting all urls in all pages"
      ],
      "metadata": {
        "id": "pLSinIgWnuyt"
      }
    },
    {
      "cell_type": "code",
      "execution_count": 9,
      "metadata": {
        "colab": {
          "base_uri": "https://localhost:8080/"
        },
        "id": "-JqVqBUUgTc5",
        "outputId": "3c018e6b-360a-4007-a224-bf3dbad85329"
      },
      "outputs": [
        {
          "output_type": "execute_result",
          "data": {
            "text/plain": [
              "870"
            ]
          },
          "metadata": {},
          "execution_count": 9
        }
      ],
      "source": [
        "## check how many page urls were extracted\n",
        "len(page_urls)"
      ]
    },
    {
      "cell_type": "markdown",
      "source": [
        "#### Saving Extracted Page URLs"
      ],
      "metadata": {
        "id": "Jwt7BLq6x-MG"
      }
    },
    {
      "cell_type": "code",
      "source": [
        "## save the urls to a csv file just in case you need it later on\n",
        "df = pd.DataFrame(page_urls)\n",
        "df.to_csv('scraped_page_urls_front.csv')"
      ],
      "metadata": {
        "id": "52gnlux_jXrO"
      },
      "execution_count": null,
      "outputs": []
    },
    {
      "cell_type": "code",
      "execution_count": 7,
      "metadata": {
        "id": "hjJpvFRw3xuq"
      },
      "outputs": [],
      "source": [
        "## run this code in case runtime suddenly stops and you lose the list\n",
        "df = pd.read_csv(\"scraped_page_urls_front.csv\")\n",
        "df.dropna(inplace=True)"
      ]
    },
    {
      "cell_type": "markdown",
      "source": [
        "### **Extracting Image URLs**"
      ],
      "metadata": {
        "id": "vOBvpETeTFaR"
      }
    },
    {
      "cell_type": "markdown",
      "source": [
        "In this step, we will be extracting the urls of the images per page. Extracting a large number of urls is time-consuming so you can do the extraction by batch (depends on your preference).\n",
        "\n",
        "**Note**: When you encounter a connection error to the website, just rerun the chrome configuration options cell."
      ],
      "metadata": {
        "id": "REP-ezmfUjaw"
      }
    },
    {
      "cell_type": "code",
      "source": [
        "## empty list to store the image urls\n",
        "image_urls = []\n",
        "\n",
        "## the range indicates the number of links we extracted in the prior step\n",
        "## since running this code is time-consuming, you can do it by batch until you finish all links\n",
        "for page in page_urls[1:50]:\n",
        "  url = f\"{page}\"\n",
        "  driver.get(url)\n",
        "  time.sleep(random.randint(1,30))\n",
        "  image_elements = driver.find_elements(By.CLASS_NAME, \"_XTkv-img\")\n",
        "\n",
        "  for img in image_elements:\n",
        "    # print(img)\n",
        "    image_urls.append(img.get_attribute('data-src'))\n",
        "\n",
        "driver.quit()"
      ],
      "metadata": {
        "id": "qk1IFwZMTFJq"
      },
      "execution_count": 14,
      "outputs": []
    },
    {
      "cell_type": "markdown",
      "source": [
        "Repeat the process until you finish extracting all image urls."
      ],
      "metadata": {
        "id": "XaboBDS1n7sq"
      }
    },
    {
      "cell_type": "code",
      "source": [
        "## check how many image urls were extracted\n",
        "len(image_urls)"
      ],
      "metadata": {
        "colab": {
          "base_uri": "https://localhost:8080/"
        },
        "id": "WSxs3ocml8J4",
        "outputId": "5e164c36-61d8-4a02-a36b-228022595af6"
      },
      "execution_count": 15,
      "outputs": [
        {
          "output_type": "execute_result",
          "data": {
            "text/plain": [
              "667"
            ]
          },
          "metadata": {},
          "execution_count": 15
        }
      ]
    },
    {
      "cell_type": "markdown",
      "source": [
        "#### Saving Extracted Image URLs"
      ],
      "metadata": {
        "id": "R-znILuXz5an"
      }
    },
    {
      "cell_type": "code",
      "source": [
        "## save the urls to a csv file just in case you need it later on\n",
        "df_image_urls = pd.DataFrame(image_urls)\n",
        "df_image_urls.to_csv('scraped_image_urls_front.csv')"
      ],
      "metadata": {
        "id": "QuQUVWYdmB3j"
      },
      "execution_count": 16,
      "outputs": []
    },
    {
      "cell_type": "code",
      "source": [
        "## run this code in case runtime suddenly stops and you lose the list\n",
        "# df_image_urls = pd.read_csv(\"scraped_image_urls_front.csv\")\n",
        "# df_image_urls.dropna(inplace=True)"
      ],
      "metadata": {
        "id": "r75VmiROjjwt"
      },
      "execution_count": 8,
      "outputs": []
    },
    {
      "cell_type": "markdown",
      "source": [
        "### **Cleaning the Image URLs**"
      ],
      "metadata": {
        "id": "n-Wn-xJW0Nyr"
      }
    },
    {
      "cell_type": "code",
      "execution_count": 10,
      "metadata": {
        "colab": {
          "base_uri": "https://localhost:8080/"
        },
        "id": "vLqfmuuJ320T",
        "outputId": "535b6423-7807-4d8f-acf9-6b188be0b67b"
      },
      "outputs": [
        {
          "output_type": "execute_result",
          "data": {
            "text/plain": [
              "667"
            ]
          },
          "metadata": {},
          "execution_count": 10
        }
      ],
      "source": [
        "## create a list for the url\n",
        "image_urls = df_image_urls[0].tolist()\n",
        "\n",
        "## check how many images we have\n",
        "len(image_urls)"
      ]
    },
    {
      "cell_type": "code",
      "source": [
        "## remove any URLs that contain the substring \"_ful.jpg\"\n",
        "## images with substring \"_ful.jpg\" does not belong to the same car in the list\n",
        "image_urls = [x for x in image_urls if \"_ful.jpg\" not in x]"
      ],
      "metadata": {
        "id": "PxqZWwU0gX-A"
      },
      "execution_count": 12,
      "outputs": []
    },
    {
      "cell_type": "code",
      "source": [
        "## checking the list\n",
        "image_urls"
      ],
      "metadata": {
        "colab": {
          "base_uri": "https://localhost:8080/"
        },
        "collapsed": true,
        "id": "TjTlA9VmRpz-",
        "outputId": "de2f2a67-f614-4641-d007-074fc95d2ce3"
      },
      "execution_count": 19,
      "outputs": [
        {
          "output_type": "execute_result",
          "data": {
            "text/plain": [
              "['https://cs.copart.com/v1/AUTH_svc.pdoc00001/ids-c-prod-lpp/0225/cdf842f6fcec4ad69009e2e565b60717_thb.jpg',\n",
              " 'https://cs.copart.com/v1/AUTH_svc.pdoc00001/ids-c-prod-lpp/0225/3203820d21f147758654cad23fc44846_thb.jpg',\n",
              " 'https://cs.copart.com/v1/AUTH_svc.pdoc00001/ids-c-prod-lpp/0225/03234ad005b64c20aaaa2454812858af_thb.jpg',\n",
              " 'https://cs.copart.com/v1/AUTH_svc.pdoc00001/ids-c-prod-lpp/0225/d8a76a4ba2824ecb8075ec531ad5d647_thb.jpg',\n",
              " 'https://cs.copart.com/v1/AUTH_svc.pdoc00001/ids-c-prod-lpp/0225/c413ba1cfea444d3a2bd6f09674069ec_thb.jpg',\n",
              " 'https://cs.copart.com/v1/AUTH_svc.pdoc00001/ids-c-prod-lpp/0225/40020cd8ea74471a849a43da416c5b57_thb.jpg',\n",
              " 'https://cs.copart.com/v1/AUTH_svc.pdoc00001/ids-c-prod-lpp/0225/0dc2c1c53b5d41abb374b95a0c1cf310_thb.jpg',\n",
              " 'https://cs.copart.com/v1/AUTH_svc.pdoc00001/ids-c-prod-lpp/0225/b00ed43f5cef49b5a1d26366e501f617_thb.jpg',\n",
              " 'https://cs.copart.com/v1/AUTH_svc.pdoc00001/ids-c-prod-lpp/0225/370c9ae1663c4cb3baa1de7cafabcb4f_thb.jpg',\n",
              " 'https://cs.copart.com/v1/AUTH_svc.pdoc00001/ids-c-prod-lpp/0225/eebdf44d323b4258bafbb4aea42edb09_thb.jpg',\n",
              " 'https://cs.copart.com/v1/AUTH_svc.pdoc00001/ids-c-prod-lpp/0225/710bd5fbb56e4e16a76d066b1868c65e_thb.jpg',\n",
              " 'https://cs.copart.com/v1/AUTH_svc.pdoc00001/ids-c-prod-lpp/0225/7f0e2738a0804b2fb0c7c62083a6865a_thb.jpg',\n",
              " 'https://cs.copart.com/v1/AUTH_svc.pdoc00001/ids-c-prod-lpp/0225/2d9843958f3d4eeba03951ca24988b97_thb.jpg',\n",
              " 'https://cs.copart.com/v1/AUTH_svc.pdoc00001/ids-c-prod-lpp/0225/ae6b61daa33645f7a01a45d00c8dbd31_thb.jpg',\n",
              " '/build/spa/images/overlays-registeroverlay-img/thumbnail.bcd9772d.jpg',\n",
              " 'https://cs.copart.com/v1/AUTH_svc.pdoc00001/ids-c-prod-lpp/0125/be9352a161a146168e02a362c5096964_thb.jpg',\n",
              " 'https://cs.copart.com/v1/AUTH_svc.pdoc00001/ids-c-prod-lpp/0125/389ff21592e94c21a76aaa174fe67b52_thb.jpg',\n",
              " 'https://cs.copart.com/v1/AUTH_svc.pdoc00001/ids-c-prod-lpp/0125/a201f573f9a24726a6e8929d783162c1_thb.jpg',\n",
              " 'https://cs.copart.com/v1/AUTH_svc.pdoc00001/ids-c-prod-lpp/0125/b3002d3e5e86427f91874964942fe5a4_thb.jpg',\n",
              " 'https://cs.copart.com/v1/AUTH_svc.pdoc00001/ids-c-prod-lpp/0125/9abb9e2d3b67446fb8dcd4e4a1b31325_thb.jpg',\n",
              " 'https://cs.copart.com/v1/AUTH_svc.pdoc00001/ids-c-prod-lpp/0125/ab426d5c63754157b6864d0f21569d40_thb.jpg',\n",
              " 'https://cs.copart.com/v1/AUTH_svc.pdoc00001/ids-c-prod-lpp/0125/15bb692d9203443088fe054a31415896_thb.jpg',\n",
              " 'https://cs.copart.com/v1/AUTH_svc.pdoc00001/ids-c-prod-lpp/0125/6d71498236464c35b1fbc1a61fbeaf23_thb.jpg',\n",
              " 'https://cs.copart.com/v1/AUTH_svc.pdoc00001/ids-c-prod-lpp/0125/1505bebd04a7417c95e9879e8a393c4f_thb.jpg',\n",
              " 'https://cs.copart.com/v1/AUTH_svc.pdoc00001/ids-c-prod-lpp/0125/f7b659375fe44063bebcb332861a4345_thb.jpg',\n",
              " 'https://cs.copart.com/v1/AUTH_svc.pdoc00001/ids-c-prod-lpp/0125/c9c35a80fcc04cfe96f668b69c658769_thb.jpg',\n",
              " 'https://cs.copart.com/v1/AUTH_svc.pdoc00001/ids-c-prod-lpp/0125/7d897d8a126b4e92b50826fad411eeec_thb.jpg',\n",
              " 'https://cs.copart.com/v1/AUTH_svc.pdoc00001/ids-c-prod-lpp/0125/e4134dff5b314a9cb8fefb8f90cfc5f8_thb.jpg',\n",
              " 'https://cs.copart.com/v1/AUTH_svc.pdoc00001/ids-c-prod-lpp/0125/c85100d8695c4dfdb2560940ad76a771_thb.jpg',\n",
              " '/build/spa/images/overlays-registeroverlay-img/thumbnail.bcd9772d.jpg',\n",
              " 'https://cs.copart.com/v1/AUTH_svc.pdoc00001/ids-c-prod-lpp/0225/d26d534e78bf4864aa78cfe02b5b5cf2_thb.jpg',\n",
              " 'https://cs.copart.com/v1/AUTH_svc.pdoc00001/ids-c-prod-lpp/0225/4ff7c114838046b6840548c2cbb23e3f_thb.jpg',\n",
              " 'https://cs.copart.com/v1/AUTH_svc.pdoc00001/ids-c-prod-lpp/0225/5a0a5e1e66b94112b0bbe252e078db11_thb.jpg',\n",
              " 'https://cs.copart.com/v1/AUTH_svc.pdoc00001/ids-c-prod-lpp/0225/0086b1ea11594099b475d26a613d38de_thb.jpg',\n",
              " 'https://cs.copart.com/v1/AUTH_svc.pdoc00001/ids-c-prod-lpp/0225/8cbf198d01434abba0cf3d9907964e82_thb.jpg',\n",
              " 'https://cs.copart.com/v1/AUTH_svc.pdoc00001/ids-c-prod-lpp/0225/4a2aa024d2d24270bde0e23bbf4b9fc6_thb.jpg',\n",
              " 'https://cs.copart.com/v1/AUTH_svc.pdoc00001/ids-c-prod-lpp/0225/d363c7b09d034f5199a114978cee5664_thb.jpg',\n",
              " 'https://cs.copart.com/v1/AUTH_svc.pdoc00001/ids-c-prod-lpp/0225/f28e7af762714fa7ad1f5f78e78347c2_thb.jpg',\n",
              " 'https://cs.copart.com/v1/AUTH_svc.pdoc00001/ids-c-prod-lpp/0225/ac225d6a81584ffa8097f285aeb81e6f_thb.jpg',\n",
              " 'https://cs.copart.com/v1/AUTH_svc.pdoc00001/ids-c-prod-lpp/0225/4687643e428f4e84b2fe0526a62bf82c_thb.jpg',\n",
              " 'https://cs.copart.com/v1/AUTH_svc.pdoc00001/ids-c-prod-lpp/0225/563ff9d3afc9440ba014bb7e9b633490_thb.jpg',\n",
              " 'https://cs.copart.com/v1/AUTH_svc.pdoc00001/ids-c-prod-lpp/0225/bc16e99157134748bb2d4f496dbacafe_thb.jpg',\n",
              " 'https://cs.copart.com/v1/AUTH_svc.pdoc00001/ids-c-prod-lpp/0225/62e7b29ed51f454ba239907dba828207_thb.jpg',\n",
              " '/build/spa/images/overlays-registeroverlay-img/thumbnail.bcd9772d.jpg',\n",
              " 'https://cs.copart.com/v1/AUTH_svc.pdoc00001/ids-c-prod-lpp/0225/7d0a9212aaef42f6b4e0f0b4160fffe2_thb.jpg',\n",
              " 'https://cs.copart.com/v1/AUTH_svc.pdoc00001/ids-c-prod-lpp/0225/f2d0d5da8b4f4466ab2f52f537e6a060_thb.jpg',\n",
              " 'https://cs.copart.com/v1/AUTH_svc.pdoc00001/ids-c-prod-lpp/0225/c36b9978605b4e39a7aeced5555ce5b6_thb.jpg',\n",
              " 'https://cs.copart.com/v1/AUTH_svc.pdoc00001/ids-c-prod-lpp/0225/b784f4a97ea4461d92f19f42741703f3_thb.jpg',\n",
              " 'https://cs.copart.com/v1/AUTH_svc.pdoc00001/ids-c-prod-lpp/0225/8a3e722f1c2b4b54880a97ebe49d62bb_thb.jpg',\n",
              " 'https://cs.copart.com/v1/AUTH_svc.pdoc00001/ids-c-prod-lpp/0225/fd04a70c958b430eaa1d1f01f5ee0eef_thb.jpg',\n",
              " 'https://cs.copart.com/v1/AUTH_svc.pdoc00001/ids-c-prod-lpp/0225/f881bfcaf0fb4fb6bef6c610e1d8037f_thb.jpg',\n",
              " 'https://cs.copart.com/v1/AUTH_svc.pdoc00001/ids-c-prod-lpp/0225/5c559fe67d684aaea99f7f80d113e125_thb.jpg',\n",
              " 'https://cs.copart.com/v1/AUTH_svc.pdoc00001/ids-c-prod-lpp/0225/91ff8e6849414e9fbe9ed04e9125f6a8_thb.jpg',\n",
              " 'https://cs.copart.com/v1/AUTH_svc.pdoc00001/ids-c-prod-lpp/0225/3217ef5677b4411bb0eb7169fbd8283c_thb.jpg',\n",
              " 'https://cs.copart.com/v1/AUTH_svc.pdoc00001/ids-c-prod-lpp/0225/10f3cb2cfc3e478fb316596f3d042a8d_thb.jpg',\n",
              " 'https://cs.copart.com/v1/AUTH_svc.pdoc00001/ids-c-prod-lpp/0225/f0df1c79cb0e4e5fb3f3ad0dcb6372de_thb.jpg',\n",
              " '/build/spa/images/overlays-registeroverlay-img/thumbnail.bcd9772d.jpg',\n",
              " 'https://cs.copart.com/v1/AUTH_svc.pdoc00001/ids-c-prod-lpp/0125/f32f8594cb164a13af83921403b0195a_thb.jpg',\n",
              " 'https://cs.copart.com/v1/AUTH_svc.pdoc00001/ids-c-prod-lpp/0125/034235c8a01d4c358352e983279db7cd_thb.jpg',\n",
              " 'https://cs.copart.com/v1/AUTH_svc.pdoc00001/ids-c-prod-lpp/0125/a27af0bd7ee4480a8846f25951a666d5_thb.jpg',\n",
              " 'https://cs.copart.com/v1/AUTH_svc.pdoc00001/ids-c-prod-lpp/0125/666a53aee30f4d03abb18d3030d04097_thb.jpg',\n",
              " 'https://cs.copart.com/v1/AUTH_svc.pdoc00001/ids-c-prod-lpp/0125/55b0857bccce4b4cbfcbf234e39cdfb5_thb.jpg',\n",
              " 'https://cs.copart.com/v1/AUTH_svc.pdoc00001/ids-c-prod-lpp/0125/d435ab96f59a4acda738a720ec9cf5a3_thb.jpg',\n",
              " 'https://cs.copart.com/v1/AUTH_svc.pdoc00001/ids-c-prod-lpp/0125/931c423258634673830613a65219ad6d_thb.jpg',\n",
              " 'https://cs.copart.com/v1/AUTH_svc.pdoc00001/ids-c-prod-lpp/0125/1ea5e2c4e03c4f07948ae8a9f7026870_thb.jpg',\n",
              " 'https://cs.copart.com/v1/AUTH_svc.pdoc00001/ids-c-prod-lpp/0125/91214cfa9650491a80fb509d75656de9_thb.jpg',\n",
              " 'https://cs.copart.com/v1/AUTH_svc.pdoc00001/ids-c-prod-lpp/0125/a11ce252be464de7bc959323f6d3225a_thb.jpg',\n",
              " 'https://cs.copart.com/v1/AUTH_svc.pdoc00001/ids-c-prod-lpp/0125/4c0fc577a6ac481381a85aed21590cee_thb.jpg',\n",
              " 'https://cs.copart.com/v1/AUTH_svc.pdoc00001/ids-c-prod-lpp/0125/18a05a73e6214de7b8ca59842dc9472e_thb.jpg',\n",
              " 'https://cs.copart.com/v1/AUTH_svc.pdoc00001/ids-c-prod-lpp/0125/b666c96cbd454f37836f7d9d38390021_thb.jpg',\n",
              " '/build/spa/images/overlays-registeroverlay-img/thumbnail.bcd9772d.jpg',\n",
              " 'https://cs.copart.com/v1/AUTH_svc.pdoc00001/ids-c-prod-lpp/0125/6055304db633432ebe8b69f3ada2d544_thb.jpg',\n",
              " 'https://cs.copart.com/v1/AUTH_svc.pdoc00001/ids-c-prod-lpp/0125/a198d29e420341aa92f90fa5e783bb14_thb.jpg',\n",
              " 'https://cs.copart.com/v1/AUTH_svc.pdoc00001/ids-c-prod-lpp/0125/ba410abf878944d99c555d90bd539abc_thb.jpg',\n",
              " 'https://cs.copart.com/v1/AUTH_svc.pdoc00001/ids-c-prod-lpp/0125/3ca33fac6a75409d951a559340b1b4ab_thb.jpg',\n",
              " 'https://cs.copart.com/v1/AUTH_svc.pdoc00001/ids-c-prod-lpp/0125/700ddbce3cbc418db24f586845b815f4_thb.jpg',\n",
              " 'https://cs.copart.com/v1/AUTH_svc.pdoc00001/ids-c-prod-lpp/0125/842b880547244e73a62f3112d0b43623_thb.jpg',\n",
              " 'https://cs.copart.com/v1/AUTH_svc.pdoc00001/ids-c-prod-lpp/0125/b0f911ca8ae04f27a67e8de326955792_thb.jpg',\n",
              " 'https://cs.copart.com/v1/AUTH_svc.pdoc00001/ids-c-prod-lpp/0125/ab40691ea7344745908293fce7c30bf1_thb.jpg',\n",
              " 'https://cs.copart.com/v1/AUTH_svc.pdoc00001/ids-c-prod-lpp/0125/c4b2c1d2b1f04ec1aa973b28c2eda556_thb.jpg',\n",
              " 'https://cs.copart.com/v1/AUTH_svc.pdoc00001/ids-c-prod-lpp/0125/81ad92a239584f02880060fcc20573c1_thb.jpg',\n",
              " 'https://cs.copart.com/v1/AUTH_svc.pdoc00001/ids-c-prod-lpp/0125/4c6df2b4de324cef86554ca400b65629_thb.jpg',\n",
              " 'https://cs.copart.com/v1/AUTH_svc.pdoc00001/ids-c-prod-lpp/0125/d6d2a5d776004dfa9f63555bc9a2f728_thb.jpg',\n",
              " 'https://cs.copart.com/v1/AUTH_svc.pdoc00001/ids-c-prod-lpp/0125/2d81bc4db1394ec5b21d216db88b4f73_thb.jpg',\n",
              " '/build/spa/images/overlays-registeroverlay-img/thumbnail.bcd9772d.jpg',\n",
              " 'https://cs.copart.com/v1/AUTH_svc.pdoc00001/ids-c-prod-lpp/0125/a29d6c0d3747424ab66db7b98ec9bf5b_thb.jpg',\n",
              " 'https://cs.copart.com/v1/AUTH_svc.pdoc00001/ids-c-prod-lpp/0125/aa2966879dd2403c8a45e02ea03fef11_thb.jpg',\n",
              " 'https://cs.copart.com/v1/AUTH_svc.pdoc00001/ids-c-prod-lpp/0125/7c47e6fc54dc4408b10d6612ce4167c9_thb.jpg',\n",
              " 'https://cs.copart.com/v1/AUTH_svc.pdoc00001/ids-c-prod-lpp/0125/2501aaf2d29c4e71b732b47296a1f120_thb.jpg',\n",
              " 'https://cs.copart.com/v1/AUTH_svc.pdoc00001/ids-c-prod-lpp/0125/4fc4ae0321b64cad887d72cc93396c80_thb.jpg',\n",
              " 'https://cs.copart.com/v1/AUTH_svc.pdoc00001/ids-c-prod-lpp/0125/3f304e889ca346a381b749a3ed47c3e2_thb.jpg',\n",
              " 'https://cs.copart.com/v1/AUTH_svc.pdoc00001/ids-c-prod-lpp/0125/b60a825b7e6749488ab7e2086fb72e68_thb.jpg',\n",
              " 'https://cs.copart.com/v1/AUTH_svc.pdoc00001/ids-c-prod-lpp/0125/f107ee75bea346e9a40cc4741ac04d50_thb.jpg',\n",
              " 'https://cs.copart.com/v1/AUTH_svc.pdoc00001/ids-c-prod-lpp/0125/cbb699faf9924828b46642ff4dd214e5_thb.jpg',\n",
              " 'https://cs.copart.com/v1/AUTH_svc.pdoc00001/ids-c-prod-lpp/0125/50120d27e2304c9cb2cd76047ae8d2ff_thb.jpg',\n",
              " 'https://cs.copart.com/v1/AUTH_svc.pdoc00001/ids-c-prod-lpp/0125/121ee3007d2c4908903f733cbc84ba05_thb.jpg',\n",
              " 'https://cs.copart.com/v1/AUTH_svc.pdoc00001/ids-c-prod-lpp/0125/84ffe4f7cf0b4827aa771b50ea2fa9c6_thb.jpg',\n",
              " 'https://cs.copart.com/v1/AUTH_svc.pdoc00001/ids-c-prod-lpp/0125/a41f49429e0047799c1d4ff91cbc3db6_thb.jpg',\n",
              " '/build/spa/images/overlays-registeroverlay-img/thumbnail.bcd9772d.jpg',\n",
              " 'https://cs.copart.com/v1/AUTH_svc.pdoc00001/ids-c-prod-lpp/1224/ecf2d95ae0bc4ad9af82c3d9f367f7b1_thb.jpg',\n",
              " 'https://cs.copart.com/v1/AUTH_svc.pdoc00001/ids-c-prod-lpp/1224/fd2a8598b7f74d829dbc4fde8c714734_thb.jpg',\n",
              " 'https://cs.copart.com/v1/AUTH_svc.pdoc00001/ids-c-prod-lpp/1224/f9c425e4405f4bf08c0bd7a6fd6b63b0_thb.jpg',\n",
              " 'https://cs.copart.com/v1/AUTH_svc.pdoc00001/ids-c-prod-lpp/1224/c16d439bc9824dc786974bb165899f2a_thb.jpg',\n",
              " 'https://cs.copart.com/v1/AUTH_svc.pdoc00001/ids-c-prod-lpp/1224/6b21364744bf46e98ed49dc0ecb139a7_thb.jpg',\n",
              " 'https://cs.copart.com/v1/AUTH_svc.pdoc00001/ids-c-prod-lpp/1224/9b6314d365e044f3be31326021cf984d_thb.jpg',\n",
              " 'https://cs.copart.com/v1/AUTH_svc.pdoc00001/ids-c-prod-lpp/1224/7032113e81d74dc3b81c5d728eec2f2a_thb.jpg',\n",
              " 'https://cs.copart.com/v1/AUTH_svc.pdoc00001/ids-c-prod-lpp/1224/4c8cbe9d9e334e1a9e7fefd8258f4250_thb.jpg',\n",
              " 'https://cs.copart.com/v1/AUTH_svc.pdoc00001/ids-c-prod-lpp/1224/194bcb59c4464c43958575eb56d3a4ed_thb.jpg',\n",
              " 'https://cs.copart.com/v1/AUTH_svc.pdoc00001/ids-c-prod-lpp/1224/7ce2aad0ed1b42eeb1890c3a26fb3f37_thb.jpg',\n",
              " 'https://cs.copart.com/v1/AUTH_svc.pdoc00001/ids-c-prod-lpp/1224/2799ff4ae55648a8a2ce7d2cb2c2884a_thb.jpg',\n",
              " 'https://cs.copart.com/v1/AUTH_svc.pdoc00001/ids-c-prod-lpp/1224/8d33375c206243158af6493b11235f69_thb.jpg',\n",
              " '/build/spa/images/overlays-registeroverlay-img/thumbnail.bcd9772d.jpg',\n",
              " 'https://cs.copart.com/v1/AUTH_svc.pdoc00001/ids-c-prod-lpp/1224/8aa73969b46d44d6a55162ba88c79ed2_thb.jpg',\n",
              " 'https://cs.copart.com/v1/AUTH_svc.pdoc00001/ids-c-prod-lpp/1224/ea98ab3bbab647bbaa65ebf54b733933_thb.jpg',\n",
              " 'https://cs.copart.com/v1/AUTH_svc.pdoc00001/ids-c-prod-lpp/1224/84be629c6f7c47519baab3ee5f06c306_thb.jpg',\n",
              " 'https://cs.copart.com/v1/AUTH_svc.pdoc00001/ids-c-prod-lpp/1224/eeaa078618dc4cd98914fe2cc4e520a7_thb.jpg',\n",
              " 'https://cs.copart.com/v1/AUTH_svc.pdoc00001/ids-c-prod-lpp/1224/55b92fe86f294d91b09619f08a11974b_thb.jpg',\n",
              " 'https://cs.copart.com/v1/AUTH_svc.pdoc00001/ids-c-prod-lpp/1224/d197d3301acf4fcdb959dbd31cbed006_thb.jpg',\n",
              " 'https://cs.copart.com/v1/AUTH_svc.pdoc00001/ids-c-prod-lpp/1224/fe10633a196c4041a9ddda3e95448b70_thb.jpg',\n",
              " 'https://cs.copart.com/v1/AUTH_svc.pdoc00001/ids-c-prod-lpp/1224/76fbb245278b4a8fb92baa3e117d0eea_thb.jpg',\n",
              " 'https://cs.copart.com/v1/AUTH_svc.pdoc00001/ids-c-prod-lpp/1224/74542b2eb9f542888f1c4944c2f628bd_thb.jpg',\n",
              " 'https://cs.copart.com/v1/AUTH_svc.pdoc00001/ids-c-prod-lpp/1224/a241c3c09c774b19a5c556506faa9fcd_thb.jpg',\n",
              " 'https://cs.copart.com/v1/AUTH_svc.pdoc00001/ids-c-prod-lpp/1224/816c79762b0d4d4dad1279694e752159_thb.jpg',\n",
              " 'https://cs.copart.com/v1/AUTH_svc.pdoc00001/ids-c-prod-lpp/1224/8ca5394178db47a19a91f6ea175a96ec_thb.jpg',\n",
              " '/build/spa/images/overlays-registeroverlay-img/thumbnail.bcd9772d.jpg',\n",
              " 'https://cs.copart.com/v1/AUTH_svc.pdoc00001/ids-c-prod-lpp/0125/3138060a82004344955cb03002209f75_thb.jpg',\n",
              " 'https://cs.copart.com/v1/AUTH_svc.pdoc00001/ids-c-prod-lpp/0125/cb204070d8bd4e14ba5ae08e13058aa5_thb.jpg',\n",
              " 'https://cs.copart.com/v1/AUTH_svc.pdoc00001/ids-c-prod-lpp/0125/d94f9930ddcd4f968db48631988b93b3_thb.jpg',\n",
              " 'https://cs.copart.com/v1/AUTH_svc.pdoc00001/ids-c-prod-lpp/0125/cadddb9c338f407185265897b39b44ab_thb.jpg',\n",
              " 'https://cs.copart.com/v1/AUTH_svc.pdoc00001/ids-c-prod-lpp/0125/0f31b292512340578be23ca11cbc2e59_thb.jpg',\n",
              " 'https://cs.copart.com/v1/AUTH_svc.pdoc00001/ids-c-prod-lpp/0125/be4060694cb047ebb955041f0e513b3d_thb.jpg',\n",
              " 'https://cs.copart.com/v1/AUTH_svc.pdoc00001/ids-c-prod-lpp/0125/c62fd0f0e001462b88c478d3cdf7c219_thb.jpg',\n",
              " 'https://cs.copart.com/v1/AUTH_svc.pdoc00001/ids-c-prod-lpp/0125/b4e8ba82d45947a9aeee4787ec93984e_thb.jpg',\n",
              " 'https://cs.copart.com/v1/AUTH_svc.pdoc00001/ids-c-prod-lpp/0125/a1fbde61f4a24eb0a05e94fd14f1fedf_thb.jpg',\n",
              " 'https://cs.copart.com/v1/AUTH_svc.pdoc00001/ids-c-prod-lpp/0125/55eb6ed10d504afbb4e6de346c17d797_thb.jpg',\n",
              " 'https://cs.copart.com/v1/AUTH_svc.pdoc00001/ids-c-prod-lpp/0125/56e82115731d4269a143c4368bc364ec_thb.jpg',\n",
              " 'https://cs.copart.com/v1/AUTH_svc.pdoc00001/ids-c-prod-lpp/0125/f8d05adab8cd47bab9d73b350afafd5a_thb.jpg',\n",
              " '/build/spa/images/overlays-registeroverlay-img/thumbnail.bcd9772d.jpg',\n",
              " 'https://cs.copart.com/v1/AUTH_svc.pdoc00001/ids-c-prod-lpp/1224/2ad2816600214684baa3fe22f8c33a8b_thb.jpg',\n",
              " 'https://cs.copart.com/v1/AUTH_svc.pdoc00001/ids-c-prod-lpp/1224/994e585cb07643b49a142383fc2b63bd_thb.jpg',\n",
              " 'https://cs.copart.com/v1/AUTH_svc.pdoc00001/ids-c-prod-lpp/1224/1e797f5facaa40a0b9f8b423d10e5a2c_thb.jpg',\n",
              " 'https://cs.copart.com/v1/AUTH_svc.pdoc00001/ids-c-prod-lpp/1224/749ec2db60d04c8d91eb479f9383d626_thb.jpg',\n",
              " 'https://cs.copart.com/v1/AUTH_svc.pdoc00001/ids-c-prod-lpp/1224/80a4f3fa18134da88beb0a0537577dd4_thb.jpg',\n",
              " 'https://cs.copart.com/v1/AUTH_svc.pdoc00001/ids-c-prod-lpp/1224/5ec48991dcd54705a120908a756804c6_thb.jpg',\n",
              " 'https://cs.copart.com/v1/AUTH_svc.pdoc00001/ids-c-prod-lpp/1224/0d32e56a54c148d39a72efd1804e51f8_thb.jpg',\n",
              " 'https://cs.copart.com/v1/AUTH_svc.pdoc00001/ids-c-prod-lpp/1224/e1a1594d8a384697b4421c496b70fb3d_thb.jpg',\n",
              " 'https://cs.copart.com/v1/AUTH_svc.pdoc00001/ids-c-prod-lpp/1224/1c55fff5d5cc43d2bcfa9fd4147c9a77_thb.jpg',\n",
              " 'https://cs.copart.com/v1/AUTH_svc.pdoc00001/ids-c-prod-lpp/1224/ffa249001005423ea22e33aa662081ba_thb.jpg',\n",
              " 'https://cs.copart.com/v1/AUTH_svc.pdoc00001/ids-c-prod-lpp/1224/a12a6e50292542d59e7b5c9f372d5ace_thb.jpg',\n",
              " 'https://cs.copart.com/v1/AUTH_svc.pdoc00001/ids-c-prod-lpp/1224/4c273ea708e74fefb4b1cd2e0423730d_thb.jpg',\n",
              " 'https://cs.copart.com/v1/AUTH_svc.pdoc00001/ids-c-prod-lpp/1224/39246890d85849b0a6082eb91df4073e_thb.jpg',\n",
              " '/build/spa/images/overlays-registeroverlay-img/thumbnail.bcd9772d.jpg',\n",
              " 'https://cs.copart.com/v1/AUTH_svc.pdoc00001/ids-c-prod-lpp/1224/8d8216398bf949d88db6615e1033a266_thb.jpg',\n",
              " 'https://cs.copart.com/v1/AUTH_svc.pdoc00001/ids-c-prod-lpp/1224/b0d8ad1bba04499fbbd44b7aae2bbbcb_thb.jpg',\n",
              " 'https://cs.copart.com/v1/AUTH_svc.pdoc00001/ids-c-prod-lpp/1224/4800e533146e46bb8dd631a8feedc46a_thb.jpg',\n",
              " 'https://cs.copart.com/v1/AUTH_svc.pdoc00001/ids-c-prod-lpp/1224/23455c1f04a74450b3004e60a36ebd8b_thb.jpg',\n",
              " 'https://cs.copart.com/v1/AUTH_svc.pdoc00001/ids-c-prod-lpp/1224/89147fdd8efc4e27b95b7bcd07f69c0d_thb.jpg',\n",
              " 'https://cs.copart.com/v1/AUTH_svc.pdoc00001/ids-c-prod-lpp/1224/51f74cbdc7b846c9b513011d8e5bc8d9_thb.jpg',\n",
              " 'https://cs.copart.com/v1/AUTH_svc.pdoc00001/ids-c-prod-lpp/1224/1c2ba860785842f59bf06a618ae1ae7f_thb.jpg',\n",
              " 'https://cs.copart.com/v1/AUTH_svc.pdoc00001/ids-c-prod-lpp/1224/90b4fe4c160344b49da35ef2be934e54_thb.jpg',\n",
              " 'https://cs.copart.com/v1/AUTH_svc.pdoc00001/ids-c-prod-lpp/1224/c8bd480425214ab4876f3d32612a16e1_thb.jpg',\n",
              " 'https://cs.copart.com/v1/AUTH_svc.pdoc00001/ids-c-prod-lpp/1224/e86d3ad216b8405aaa4ed812d83497b9_thb.jpg',\n",
              " 'https://cs.copart.com/v1/AUTH_svc.pdoc00001/ids-c-prod-lpp/1224/08d9664a9de74a2eaa82d362267bedb8_thb.jpg',\n",
              " 'https://cs.copart.com/v1/AUTH_svc.pdoc00001/ids-c-prod-lpp/1224/9a364441dbe04e479e76de8baa97f2f9_thb.jpg',\n",
              " 'https://cs.copart.com/v1/AUTH_svc.pdoc00001/ids-c-prod-lpp/1224/a813cff881184b7d8724efa88f85e0d2_thb.jpg',\n",
              " '/build/spa/images/overlays-registeroverlay-img/thumbnail.bcd9772d.jpg',\n",
              " 'https://cs.copart.com/v1/AUTH_svc.pdoc00001/ids-c-prod-lpp/0125/fdf5e6f62372440b832315872e3a7dc4_thb.jpg',\n",
              " 'https://cs.copart.com/v1/AUTH_svc.pdoc00001/ids-c-prod-lpp/0125/329510bfd1f2454f808e3e69598efff1_thb.jpg',\n",
              " 'https://cs.copart.com/v1/AUTH_svc.pdoc00001/ids-c-prod-lpp/0125/c6e5dcd3d4234bb0b92e161bca4f3487_thb.jpg',\n",
              " 'https://cs.copart.com/v1/AUTH_svc.pdoc00001/ids-c-prod-lpp/0125/9f7dae46a2354ddb894c02a0741ff5b0_thb.jpg',\n",
              " 'https://cs.copart.com/v1/AUTH_svc.pdoc00001/ids-c-prod-lpp/0125/d33a9f54126b4bb2968fb82a658fd111_thb.jpg',\n",
              " 'https://cs.copart.com/v1/AUTH_svc.pdoc00001/ids-c-prod-lpp/0125/e785e3bd958b41ff98f5db6132edf99f_thb.jpg',\n",
              " 'https://cs.copart.com/v1/AUTH_svc.pdoc00001/ids-c-prod-lpp/0125/349822d5645b4299996a6d266fe308a6_thb.jpg',\n",
              " 'https://cs.copart.com/v1/AUTH_svc.pdoc00001/ids-c-prod-lpp/0125/9590bfafb84045faab170d5f2356e4fe_thb.jpg',\n",
              " 'https://cs.copart.com/v1/AUTH_svc.pdoc00001/ids-c-prod-lpp/0125/8df4013c25c341cf99e2245636a91779_thb.jpg',\n",
              " 'https://cs.copart.com/v1/AUTH_svc.pdoc00001/ids-c-prod-lpp/0125/5c77829591844bffbe983d193bcb9ffc_thb.jpg',\n",
              " 'https://cs.copart.com/v1/AUTH_svc.pdoc00001/ids-c-prod-lpp/0125/513c655868d34d1d88636c7d160d5fa9_thb.jpg',\n",
              " 'https://cs.copart.com/v1/AUTH_svc.pdoc00001/ids-c-prod-lpp/0125/ba2eb2ffe0eb4d789324a1d1afe58ede_thb.jpg',\n",
              " '/build/spa/images/overlays-registeroverlay-img/thumbnail.bcd9772d.jpg',\n",
              " 'https://cs.copart.com/v1/AUTH_svc.pdoc00001/ids-c-prod-lpp/0125/55c08f3a5a68406a8c4a1c5d81345c2a_thb.jpg',\n",
              " 'https://cs.copart.com/v1/AUTH_svc.pdoc00001/ids-c-prod-lpp/0125/eb5a2c373a214e058dd6b0c74979d9c5_thb.jpg',\n",
              " 'https://cs.copart.com/v1/AUTH_svc.pdoc00001/ids-c-prod-lpp/0125/b890ca74890c43ff8972d223be6e1e14_thb.jpg',\n",
              " 'https://cs.copart.com/v1/AUTH_svc.pdoc00001/ids-c-prod-lpp/0125/ad83bceb548340bd9fbfc41372464dca_thb.jpg',\n",
              " 'https://cs.copart.com/v1/AUTH_svc.pdoc00001/ids-c-prod-lpp/0125/38e525bb99ce42629e12e4fc03035053_thb.jpg',\n",
              " 'https://cs.copart.com/v1/AUTH_svc.pdoc00001/ids-c-prod-lpp/0125/2be57589d79d45b8befaa579bf0f8e2a_thb.jpg',\n",
              " 'https://cs.copart.com/v1/AUTH_svc.pdoc00001/ids-c-prod-lpp/0125/e3e9fd8a65ba4fc3aa3362523a3a2fb3_thb.jpg',\n",
              " 'https://cs.copart.com/v1/AUTH_svc.pdoc00001/ids-c-prod-lpp/0125/fa9b4072ef62455da58f29e010306f52_thb.jpg',\n",
              " 'https://cs.copart.com/v1/AUTH_svc.pdoc00001/ids-c-prod-lpp/0125/2973dc4f53cf4496855ea6aa221c1fb8_thb.jpg',\n",
              " 'https://cs.copart.com/v1/AUTH_svc.pdoc00001/ids-c-prod-lpp/0125/16978057da7447f8bd6a13d097b1f55a_thb.jpg',\n",
              " 'https://cs.copart.com/v1/AUTH_svc.pdoc00001/ids-c-prod-lpp/0125/9ef94f130748423f807a78bb645ef659_thb.jpg',\n",
              " 'https://cs.copart.com/v1/AUTH_svc.pdoc00001/ids-c-prod-lpp/0125/344d9a55b1dd4f5fac4a4e9bc955feea_thb.jpg',\n",
              " '/build/spa/images/overlays-registeroverlay-img/thumbnail.bcd9772d.jpg',\n",
              " 'https://cs.copart.com/v1/AUTH_svc.pdoc00001/ids-c-prod-lpp/0225/e31e9910ded3474c8ddc4c91beba571a_thb.jpg',\n",
              " 'https://cs.copart.com/v1/AUTH_svc.pdoc00001/ids-c-prod-lpp/0225/9fc4a6c9f85d426397c558e2ab72f34f_thb.jpg',\n",
              " 'https://cs.copart.com/v1/AUTH_svc.pdoc00001/ids-c-prod-lpp/0225/34af81752f93459eac1bc9b32d9b610e_thb.jpg',\n",
              " 'https://cs.copart.com/v1/AUTH_svc.pdoc00001/ids-c-prod-lpp/0225/e3b106d389994693bac197d75c5eea92_thb.jpg',\n",
              " 'https://cs.copart.com/v1/AUTH_svc.pdoc00001/ids-c-prod-lpp/0225/769d2dbad8a54ede8f0b53d388a2261d_thb.jpg',\n",
              " 'https://cs.copart.com/v1/AUTH_svc.pdoc00001/ids-c-prod-lpp/0225/5e4666b3f4d34a0ebfa8e1b1ac1d81a7_thb.jpg',\n",
              " 'https://cs.copart.com/v1/AUTH_svc.pdoc00001/ids-c-prod-lpp/0225/a62ac8ed7b1c48edb16154d2a7405a61_thb.jpg',\n",
              " 'https://cs.copart.com/v1/AUTH_svc.pdoc00001/ids-c-prod-lpp/0225/1ef009c7dfc04de78a049318eda215c9_thb.jpg',\n",
              " 'https://cs.copart.com/v1/AUTH_svc.pdoc00001/ids-c-prod-lpp/0225/055a8a4c6527486f991db0962b8b3b3a_thb.jpg',\n",
              " 'https://cs.copart.com/v1/AUTH_svc.pdoc00001/ids-c-prod-lpp/0225/ce7609d6d47645ff80bccd80effce470_thb.jpg',\n",
              " 'https://cs.copart.com/v1/AUTH_svc.pdoc00001/ids-c-prod-lpp/0225/ffdfb9696a2b4cf09850f5e7cbdf6fde_thb.jpg',\n",
              " 'https://cs.copart.com/v1/AUTH_svc.pdoc00001/ids-c-prod-lpp/0225/3d8b02b20910420da867891776488197_thb.jpg',\n",
              " 'https://cs.copart.com/v1/AUTH_svc.pdoc00001/ids-c-prod-lpp/0225/0e1b77d02ba748a6a3c054fcd3543490_thb.jpg',\n",
              " 'https://cs.copart.com/v1/AUTH_svc.pdoc00001/ids-c-prod-lpp/0225/b6f8fa294c7c4890881b34accdf58afd_thb.jpg',\n",
              " '/build/spa/images/overlays-registeroverlay-img/thumbnail.bcd9772d.jpg',\n",
              " 'https://cs.copart.com/v1/AUTH_svc.pdoc00001/ids-c-prod-lpp/1224/20d33e7025ec4c70937e6bb17cbdf31e_thb.jpg',\n",
              " 'https://cs.copart.com/v1/AUTH_svc.pdoc00001/ids-c-prod-lpp/1224/d7472381543043d5b7eede4c4486d04a_thb.jpg',\n",
              " 'https://cs.copart.com/v1/AUTH_svc.pdoc00001/ids-c-prod-lpp/1224/820914d98b2d40dd925ad66c439b324d_thb.jpg',\n",
              " 'https://cs.copart.com/v1/AUTH_svc.pdoc00001/ids-c-prod-lpp/1224/30d8975fabf64d7a9f55a108b0ec08df_thb.jpg',\n",
              " 'https://cs.copart.com/v1/AUTH_svc.pdoc00001/ids-c-prod-lpp/1224/0998f687ecab469ead2cd6f4c0a09af2_thb.jpg',\n",
              " 'https://cs.copart.com/v1/AUTH_svc.pdoc00001/ids-c-prod-lpp/1224/6fe2e76c79e4423bb27ae025f30a14af_thb.jpg',\n",
              " 'https://cs.copart.com/v1/AUTH_svc.pdoc00001/ids-c-prod-lpp/1224/85bc30b0aebc46a49da00b77bdd75d99_thb.jpg',\n",
              " 'https://cs.copart.com/v1/AUTH_svc.pdoc00001/ids-c-prod-lpp/1224/a110374861b74abcb786432feea139b4_thb.jpg',\n",
              " 'https://cs.copart.com/v1/AUTH_svc.pdoc00001/ids-c-prod-lpp/1224/f503b6a557e14701bc5a023f623a0001_thb.jpg',\n",
              " 'https://cs.copart.com/v1/AUTH_svc.pdoc00001/ids-c-prod-lpp/1224/9f33a4b7d60c46aabaea50eece5efe98_thb.jpg',\n",
              " 'https://cs.copart.com/v1/AUTH_svc.pdoc00001/ids-c-prod-lpp/1224/1a07f35c91354e4abfb25b6464a07b43_thb.jpg',\n",
              " 'https://cs.copart.com/v1/AUTH_svc.pdoc00001/ids-c-prod-lpp/1224/6a0ebee3b3804d3a9f3f3e5bc2c5ad4b_thb.jpg',\n",
              " '/build/spa/images/overlays-registeroverlay-img/thumbnail.bcd9772d.jpg',\n",
              " 'https://cs.copart.com/v1/AUTH_svc.pdoc00001/ids-c-prod-lpp/1124/3ed55f3fb49d43078d57d4e20879d68d_thb.jpg',\n",
              " 'https://cs.copart.com/v1/AUTH_svc.pdoc00001/ids-c-prod-lpp/1124/0e2b8137689d47eebe031ffacd3e1fbb_thb.jpg',\n",
              " 'https://cs.copart.com/v1/AUTH_svc.pdoc00001/ids-c-prod-lpp/1124/3e17f03759644acca7f2c7b12c293795_thb.jpg',\n",
              " 'https://cs.copart.com/v1/AUTH_svc.pdoc00001/ids-c-prod-lpp/1124/61e5f4b29fa2471dac5fb6ec156494b3_thb.jpg',\n",
              " 'https://cs.copart.com/v1/AUTH_svc.pdoc00001/ids-c-prod-lpp/1124/eb7fc99e88144fd1b92b9a0dd14bfcc7_thb.jpg',\n",
              " 'https://cs.copart.com/v1/AUTH_svc.pdoc00001/ids-c-prod-lpp/1124/973e6da17c694240b1e6525a97085746_thb.jpg',\n",
              " 'https://cs.copart.com/v1/AUTH_svc.pdoc00001/ids-c-prod-lpp/1124/70eb01dce3fd44ddae2a7b41ad7e9511_thb.jpg',\n",
              " 'https://cs.copart.com/v1/AUTH_svc.pdoc00001/ids-c-prod-lpp/1124/07e8ebfa4914481fabb69c0f2545a292_thb.jpg',\n",
              " 'https://cs.copart.com/v1/AUTH_svc.pdoc00001/ids-c-prod-lpp/1124/6a540b839310485bb67a18b0723ba990_thb.jpg',\n",
              " 'https://cs.copart.com/v1/AUTH_svc.pdoc00001/ids-c-prod-lpp/1124/3824092ba3fc4bdaa377c8692df43deb_thb.jpg',\n",
              " 'https://cs.copart.com/v1/AUTH_svc.pdoc00001/ids-c-prod-lpp/1124/efe0901deea94d45b66c8c89e468b7dc_thb.jpg',\n",
              " 'https://cs.copart.com/v1/AUTH_svc.pdoc00001/ids-c-prod-lpp/1124/fbd86545a90d4400aaf695f73477f9e1_thb.jpg',\n",
              " '/build/spa/images/overlays-registeroverlay-img/thumbnail.bcd9772d.jpg',\n",
              " 'https://cs.copart.com/v1/AUTH_svc.pdoc00001/ids-c-prod-lpp/0125/7c88d1d668ae47dfbc2ac31332668adc_thb.jpg',\n",
              " 'https://cs.copart.com/v1/AUTH_svc.pdoc00001/ids-c-prod-lpp/0125/85078bb18d484469871b3f4a0068f275_thb.jpg',\n",
              " 'https://cs.copart.com/v1/AUTH_svc.pdoc00001/ids-c-prod-lpp/0125/a0e86c00932b4a22921b3952964b365c_thb.jpg',\n",
              " 'https://cs.copart.com/v1/AUTH_svc.pdoc00001/ids-c-prod-lpp/0125/9253779a2b494610aa2692aeae243ee3_thb.jpg',\n",
              " 'https://cs.copart.com/v1/AUTH_svc.pdoc00001/ids-c-prod-lpp/0125/0656b414550b4e65b3e693ddc4b773b0_thb.jpg',\n",
              " 'https://cs.copart.com/v1/AUTH_svc.pdoc00001/ids-c-prod-lpp/0125/e5dbbc1c57454e81ba284cb9d444a912_thb.jpg',\n",
              " 'https://cs.copart.com/v1/AUTH_svc.pdoc00001/ids-c-prod-lpp/0125/4ada805a063746f9863e11b52e9483c2_thb.jpg',\n",
              " 'https://cs.copart.com/v1/AUTH_svc.pdoc00001/ids-c-prod-lpp/0125/08fa134c92204040985ff1662ada171b_thb.jpg',\n",
              " 'https://cs.copart.com/v1/AUTH_svc.pdoc00001/ids-c-prod-lpp/0125/ad27d72e860a4718aae3d85019506b62_thb.jpg',\n",
              " 'https://cs.copart.com/v1/AUTH_svc.pdoc00001/ids-c-prod-lpp/0125/821a28d5a58d4b589ecd7651f226d12b_thb.jpg',\n",
              " 'https://cs.copart.com/v1/AUTH_svc.pdoc00001/ids-c-prod-lpp/0125/7e60c3d58e0642f59da0f3c287332084_thb.jpg',\n",
              " 'https://cs.copart.com/v1/AUTH_svc.pdoc00001/ids-c-prod-lpp/0125/ba844a0eabb044d0b63d8bd8971f8140_thb.jpg',\n",
              " 'https://cs.copart.com/v1/AUTH_svc.pdoc00001/ids-c-prod-lpp/0125/2552dfa5b6d14bf2b8061cad92e44315_thb.jpg',\n",
              " '/build/spa/images/overlays-registeroverlay-img/thumbnail.bcd9772d.jpg',\n",
              " 'https://cs.copart.com/v1/AUTH_svc.pdoc00001/ids-c-prod-lpp/1224/637dfeb91a794adfbafc2a7fa43057fd_thb.jpg',\n",
              " 'https://cs.copart.com/v1/AUTH_svc.pdoc00001/ids-c-prod-lpp/1224/bf5147397ec74b20974746047d346923_thb.jpg',\n",
              " 'https://cs.copart.com/v1/AUTH_svc.pdoc00001/ids-c-prod-lpp/1224/8d3ef52c98c147ca9076ce1e9a185c2e_thb.jpg',\n",
              " 'https://cs.copart.com/v1/AUTH_svc.pdoc00001/ids-c-prod-lpp/1224/b14a6e8883534a1e91f39d01efc2165c_thb.jpg',\n",
              " 'https://cs.copart.com/v1/AUTH_svc.pdoc00001/ids-c-prod-lpp/1224/fe4adb92a263424f9e687593a0b1e22c_thb.jpg',\n",
              " 'https://cs.copart.com/v1/AUTH_svc.pdoc00001/ids-c-prod-lpp/1224/3637c2089f0543498a5acb8321361651_thb.jpg',\n",
              " 'https://cs.copart.com/v1/AUTH_svc.pdoc00001/ids-c-prod-lpp/1224/4583758ee27841e88f890c239f0db356_thb.jpg',\n",
              " 'https://cs.copart.com/v1/AUTH_svc.pdoc00001/ids-c-prod-lpp/1224/f5a0a42c04524e9696ef102589e1a0d9_thb.jpg',\n",
              " 'https://cs.copart.com/v1/AUTH_svc.pdoc00001/ids-c-prod-lpp/1224/a636165f917a4926b31739513121d088_thb.jpg',\n",
              " 'https://cs.copart.com/v1/AUTH_svc.pdoc00001/ids-c-prod-lpp/1224/cf6aa1f6ad4c4fb299ae3cfcb42ab177_thb.jpg',\n",
              " 'https://cs.copart.com/v1/AUTH_svc.pdoc00001/ids-c-prod-lpp/1224/14a69a7045fe41e5b3690e32f0c3990e_thb.jpg',\n",
              " 'https://cs.copart.com/v1/AUTH_svc.pdoc00001/ids-c-prod-lpp/1224/fa87421c368a4682b0cab4c3366aa149_thb.jpg',\n",
              " '/build/spa/images/overlays-registeroverlay-img/thumbnail.bcd9772d.jpg',\n",
              " 'https://cs.copart.com/v1/AUTH_svc.pdoc00001/ids-c-prod-lpp/0125/ecbc96796d544252be651d555e78e1f2_thb.jpg',\n",
              " 'https://cs.copart.com/v1/AUTH_svc.pdoc00001/ids-c-prod-lpp/0125/e57d7dc1cdb74c0291884261f48c93a4_thb.jpg',\n",
              " 'https://cs.copart.com/v1/AUTH_svc.pdoc00001/ids-c-prod-lpp/0125/89341124abf74bdca8da180614a73630_thb.jpg',\n",
              " 'https://cs.copart.com/v1/AUTH_svc.pdoc00001/ids-c-prod-lpp/0125/523ca4b3745045b697a4d7098698fa4f_thb.jpg',\n",
              " 'https://cs.copart.com/v1/AUTH_svc.pdoc00001/ids-c-prod-lpp/0125/725b8b91a7a742419518128e74565a3f_thb.jpg',\n",
              " 'https://cs.copart.com/v1/AUTH_svc.pdoc00001/ids-c-prod-lpp/0125/d532c9c8f55949dab3afd3f9f06d5c20_thb.jpg',\n",
              " 'https://cs.copart.com/v1/AUTH_svc.pdoc00001/ids-c-prod-lpp/0125/292c045a63a8422cb4f05389d462525f_thb.jpg',\n",
              " 'https://cs.copart.com/v1/AUTH_svc.pdoc00001/ids-c-prod-lpp/0125/e9c5f3a353894bd1a4c13c9050e2cb3e_thb.jpg',\n",
              " 'https://cs.copart.com/v1/AUTH_svc.pdoc00001/ids-c-prod-lpp/0125/164df3abe2d141ffb70546427b31b477_thb.jpg',\n",
              " 'https://cs.copart.com/v1/AUTH_svc.pdoc00001/ids-c-prod-lpp/0125/bf2367b603824217bdbe7d0440ea33e9_thb.jpg',\n",
              " 'https://cs.copart.com/v1/AUTH_svc.pdoc00001/ids-c-prod-lpp/0125/1cdf410ea2964e3ca0d4be8642b4f43b_thb.jpg',\n",
              " 'https://cs.copart.com/v1/AUTH_svc.pdoc00001/ids-c-prod-lpp/0125/925ff544bdbc42a3802cc031a56c6ed0_thb.jpg',\n",
              " '/build/spa/images/overlays-registeroverlay-img/thumbnail.bcd9772d.jpg',\n",
              " 'https://cs.copart.com/v1/AUTH_svc.pdoc00001/ids-c-prod-lpp/1224/185bee4de7d4473797190b0573c01bdd_thb.jpg',\n",
              " 'https://cs.copart.com/v1/AUTH_svc.pdoc00001/ids-c-prod-lpp/1224/f18c98562eca4b70a6e538874515991f_thb.jpg',\n",
              " 'https://cs.copart.com/v1/AUTH_svc.pdoc00001/ids-c-prod-lpp/1224/a16490e3f6a34682ad118ab244057919_thb.jpg',\n",
              " 'https://cs.copart.com/v1/AUTH_svc.pdoc00001/ids-c-prod-lpp/1224/ba6071cd9e6448cb95463d3d42f157c8_thb.jpg',\n",
              " 'https://cs.copart.com/v1/AUTH_svc.pdoc00001/ids-c-prod-lpp/1224/f7073be5d59443979371261623fdd017_thb.jpg',\n",
              " 'https://cs.copart.com/v1/AUTH_svc.pdoc00001/ids-c-prod-lpp/1224/6dd574ac2beb4909816926976079b501_thb.jpg',\n",
              " 'https://cs.copart.com/v1/AUTH_svc.pdoc00001/ids-c-prod-lpp/1224/c0284c61b3be459ba67723990d69b897_thb.jpg',\n",
              " 'https://cs.copart.com/v1/AUTH_svc.pdoc00001/ids-c-prod-lpp/1224/306deee794844b80b554958fb4377ad7_thb.jpg',\n",
              " 'https://cs.copart.com/v1/AUTH_svc.pdoc00001/ids-c-prod-lpp/1224/3759fc64fcda4451b45de68ae956f24e_thb.jpg',\n",
              " 'https://cs.copart.com/v1/AUTH_svc.pdoc00001/ids-c-prod-lpp/1224/0e5b09c4e04042148da58d1635ff6853_thb.jpg',\n",
              " 'https://cs.copart.com/v1/AUTH_svc.pdoc00001/ids-c-prod-lpp/1224/6d1f32a390c04c99a1ab4781bf2139af_thb.jpg',\n",
              " 'https://cs.copart.com/v1/AUTH_svc.pdoc00001/ids-c-prod-lpp/1224/1dfa76b58173411ba72e75c773b5fe84_thb.jpg',\n",
              " '/build/spa/images/overlays-registeroverlay-img/thumbnail.bcd9772d.jpg',\n",
              " 'https://cs.copart.com/v1/AUTH_svc.pdoc00001/ids-c-prod-lpp/0125/0c695d320d274714aab12d865b2bb302_thb.jpg',\n",
              " 'https://cs.copart.com/v1/AUTH_svc.pdoc00001/ids-c-prod-lpp/0125/c28d905ae83f4f36b2a786b9d219514f_thb.jpg',\n",
              " 'https://cs.copart.com/v1/AUTH_svc.pdoc00001/ids-c-prod-lpp/0125/47c9ad4955944ed28f24df1b0852c291_thb.jpg',\n",
              " 'https://cs.copart.com/v1/AUTH_svc.pdoc00001/ids-c-prod-lpp/0125/45e43b33cf974130ac9f2c48a6028a71_thb.jpg',\n",
              " 'https://cs.copart.com/v1/AUTH_svc.pdoc00001/ids-c-prod-lpp/0125/c23c56a55bf34e5d90fcdc8b67661aeb_thb.jpg',\n",
              " 'https://cs.copart.com/v1/AUTH_svc.pdoc00001/ids-c-prod-lpp/0125/3bfd2227ff674465a3f1709653a04839_thb.jpg',\n",
              " 'https://cs.copart.com/v1/AUTH_svc.pdoc00001/ids-c-prod-lpp/0125/98f1a7e817d344aa89d36a89010b859a_thb.jpg',\n",
              " 'https://cs.copart.com/v1/AUTH_svc.pdoc00001/ids-c-prod-lpp/0125/c7e347c561bc4ac2aab53218cbc20cf0_thb.jpg',\n",
              " 'https://cs.copart.com/v1/AUTH_svc.pdoc00001/ids-c-prod-lpp/0125/1d6d5b9ded4c4f8f972d3dc5af840f93_thb.jpg',\n",
              " 'https://cs.copart.com/v1/AUTH_svc.pdoc00001/ids-c-prod-lpp/0125/5311018f6e0b4956abf6fa9b99d88241_thb.jpg',\n",
              " 'https://cs.copart.com/v1/AUTH_svc.pdoc00001/ids-c-prod-lpp/0125/97e233df2dda461bbdba451e61917abc_thb.jpg',\n",
              " 'https://cs.copart.com/v1/AUTH_svc.pdoc00001/ids-c-prod-lpp/0125/da2adb4bdd454fad8aecb46e50a8ffba_thb.jpg',\n",
              " '/build/spa/images/overlays-registeroverlay-img/thumbnail.bcd9772d.jpg',\n",
              " 'https://cs.copart.com/v1/AUTH_svc.pdoc00001/ids-c-prod-lpp/0125/aa30d828aa3648d9bd8e1699c120e3bf_thb.jpg',\n",
              " 'https://cs.copart.com/v1/AUTH_svc.pdoc00001/ids-c-prod-lpp/0125/f89b50b6293d4e31a43beeb3d2834cb0_thb.jpg',\n",
              " 'https://cs.copart.com/v1/AUTH_svc.pdoc00001/ids-c-prod-lpp/0125/91ef587cdc25494db73d845a6fa9163e_thb.jpg',\n",
              " 'https://cs.copart.com/v1/AUTH_svc.pdoc00001/ids-c-prod-lpp/0125/5504ce76eb2a49729cf4d9fc1a91dc1c_thb.jpg',\n",
              " 'https://cs.copart.com/v1/AUTH_svc.pdoc00001/ids-c-prod-lpp/0125/ed893b8f4a934b64b1ab92c3ca4ad9a7_thb.jpg',\n",
              " 'https://cs.copart.com/v1/AUTH_svc.pdoc00001/ids-c-prod-lpp/0125/b06222945e38439f8e601adcccc71184_thb.jpg',\n",
              " 'https://cs.copart.com/v1/AUTH_svc.pdoc00001/ids-c-prod-lpp/0125/6ad5dd3aa7fa482f883e3c1144c3eba6_thb.jpg',\n",
              " 'https://cs.copart.com/v1/AUTH_svc.pdoc00001/ids-c-prod-lpp/0125/4f7a7b2c4ca446029db2877d5e84d681_thb.jpg',\n",
              " 'https://cs.copart.com/v1/AUTH_svc.pdoc00001/ids-c-prod-lpp/0125/d15793d8ef6c440f87333a3069732791_thb.jpg',\n",
              " 'https://cs.copart.com/v1/AUTH_svc.pdoc00001/ids-c-prod-lpp/0125/ce244dc82c53430a897334478e91e563_thb.jpg',\n",
              " 'https://cs.copart.com/v1/AUTH_svc.pdoc00001/ids-c-prod-lpp/0125/c52c99749a634caeb4e360f9974753f6_thb.jpg',\n",
              " 'https://cs.copart.com/v1/AUTH_svc.pdoc00001/ids-c-prod-lpp/0125/95a2a05802fe49c89b420bcd9215c62f_thb.jpg',\n",
              " '/build/spa/images/overlays-registeroverlay-img/thumbnail.bcd9772d.jpg',\n",
              " 'https://cs.copart.com/v1/AUTH_svc.pdoc00001/ids-c-prod-lpp/1124/d93d7b66df7d4919a714b1f5e368ef7e_thb.jpg',\n",
              " 'https://cs.copart.com/v1/AUTH_svc.pdoc00001/ids-c-prod-lpp/1124/dc2c716bc6d54853bc85e7243170cb5f_thb.jpg',\n",
              " 'https://cs.copart.com/v1/AUTH_svc.pdoc00001/ids-c-prod-lpp/1124/cdb09af6e77f4c759fffa36151ac4f6e_thb.jpg',\n",
              " 'https://cs.copart.com/v1/AUTH_svc.pdoc00001/ids-c-prod-lpp/1124/80f5bf88ca434df1b0910d53316c4d41_thb.jpg',\n",
              " 'https://cs.copart.com/v1/AUTH_svc.pdoc00001/ids-c-prod-lpp/1124/609fc084960d413db9b5211bd8ce8b82_thb.jpg',\n",
              " 'https://cs.copart.com/v1/AUTH_svc.pdoc00001/ids-c-prod-lpp/1124/99bb9e1b21154f64b55e3cef8fc95d21_thb.jpg',\n",
              " 'https://cs.copart.com/v1/AUTH_svc.pdoc00001/ids-c-prod-lpp/1124/1ba910f094ba488dbedfdefb14a07872_thb.jpg',\n",
              " 'https://cs.copart.com/v1/AUTH_svc.pdoc00001/ids-c-prod-lpp/1124/553c835784a340ac8190fad459ae6e64_thb.jpg',\n",
              " 'https://cs.copart.com/v1/AUTH_svc.pdoc00001/ids-c-prod-lpp/1124/8e39acc401fe44e5863cd3760404b290_thb.jpg',\n",
              " 'https://cs.copart.com/v1/AUTH_svc.pdoc00001/ids-c-prod-lpp/1124/e1090854b5804de7a7c6c0f6932ac83a_thb.jpg',\n",
              " 'https://cs.copart.com/v1/AUTH_svc.pdoc00001/ids-c-prod-lpp/1124/9b54c5911f944d6f99ba120c5ee1fdea_thb.jpg',\n",
              " 'https://cs.copart.com/v1/AUTH_svc.pdoc00001/ids-c-prod-lpp/1124/d44709398a79467bb17461629241e80f_thb.jpg',\n",
              " '/build/spa/images/overlays-registeroverlay-img/thumbnail.bcd9772d.jpg',\n",
              " 'https://cs.copart.com/v1/AUTH_svc.pdoc00001/ids-c-prod-lpp/0125/abb564bd6acb4a2a9d9d36b168faf561_thb.jpg',\n",
              " 'https://cs.copart.com/v1/AUTH_svc.pdoc00001/ids-c-prod-lpp/0125/f30fc7d22bad47be864008aa5766caa9_thb.jpg',\n",
              " 'https://cs.copart.com/v1/AUTH_svc.pdoc00001/ids-c-prod-lpp/0125/3f8083728c2847faa4c351e3ad616d2d_thb.jpg',\n",
              " 'https://cs.copart.com/v1/AUTH_svc.pdoc00001/ids-c-prod-lpp/0125/4b5745ccd0b9439baf87f5f56dcf95eb_thb.jpg',\n",
              " 'https://cs.copart.com/v1/AUTH_svc.pdoc00001/ids-c-prod-lpp/0125/f0d1982e23c64e37ba7f93647cb6d9d1_thb.jpg',\n",
              " 'https://cs.copart.com/v1/AUTH_svc.pdoc00001/ids-c-prod-lpp/0125/a521f0da986a41be85ef715db7d426ca_thb.jpg',\n",
              " 'https://cs.copart.com/v1/AUTH_svc.pdoc00001/ids-c-prod-lpp/0125/179b9776770e4d39bd673e5978c177da_thb.jpg',\n",
              " 'https://cs.copart.com/v1/AUTH_svc.pdoc00001/ids-c-prod-lpp/0125/f0c1094e181d4330af9bb691f8fa80a5_thb.jpg',\n",
              " 'https://cs.copart.com/v1/AUTH_svc.pdoc00001/ids-c-prod-lpp/0125/c8265837208e40f895221f7d252fd935_thb.jpg',\n",
              " 'https://cs.copart.com/v1/AUTH_svc.pdoc00001/ids-c-prod-lpp/0125/f010bc1c353d4195a24c289a6e2f5710_thb.jpg',\n",
              " 'https://cs.copart.com/v1/AUTH_svc.pdoc00001/ids-c-prod-lpp/0125/ad1ebd51bc1f4550afab581ce6636f2a_thb.jpg',\n",
              " 'https://cs.copart.com/v1/AUTH_svc.pdoc00001/ids-c-prod-lpp/0125/3b26add5129e4ed393563413df8886f4_thb.jpg',\n",
              " 'https://cs.copart.com/v1/AUTH_svc.pdoc00001/ids-c-prod-lpp/0125/f881b55d5eb34504b8fccf96f69338ff_thb.jpg',\n",
              " '/build/spa/images/overlays-registeroverlay-img/thumbnail.bcd9772d.jpg',\n",
              " 'https://cs.copart.com/v1/AUTH_svc.pdoc00001/ids-c-prod-lpp/0225/b0a06c353c7d4e2db3e9b5238362a238_thb.jpg',\n",
              " 'https://cs.copart.com/v1/AUTH_svc.pdoc00001/ids-c-prod-lpp/0225/6e04aa57898242d88439f733a79bf696_thb.jpg',\n",
              " 'https://cs.copart.com/v1/AUTH_svc.pdoc00001/ids-c-prod-lpp/0225/237f4aedc8604fd89a53b28b43e87418_thb.jpg',\n",
              " 'https://cs.copart.com/v1/AUTH_svc.pdoc00001/ids-c-prod-lpp/0225/d7d27686b84342f895d815b6e6ed0e86_thb.jpg',\n",
              " 'https://cs.copart.com/v1/AUTH_svc.pdoc00001/ids-c-prod-lpp/0225/1e0b2d3665164159860d795d652d1610_thb.jpg',\n",
              " 'https://cs.copart.com/v1/AUTH_svc.pdoc00001/ids-c-prod-lpp/0225/07e0b1fd03bb4828b242109904c44d1f_thb.jpg',\n",
              " 'https://cs.copart.com/v1/AUTH_svc.pdoc00001/ids-c-prod-lpp/0225/50b32e894126489f8fea80c3c3518d31_thb.jpg',\n",
              " 'https://cs.copart.com/v1/AUTH_svc.pdoc00001/ids-c-prod-lpp/0225/d5172885b4e14aa58b7cf1c27c29b028_thb.jpg',\n",
              " 'https://cs.copart.com/v1/AUTH_svc.pdoc00001/ids-c-prod-lpp/0225/2f18f8188e0241c2b63def4119cf481a_thb.jpg',\n",
              " 'https://cs.copart.com/v1/AUTH_svc.pdoc00001/ids-c-prod-lpp/0225/b18e0df19f524e15ab9ee4e59b095961_thb.jpg',\n",
              " 'https://cs.copart.com/v1/AUTH_svc.pdoc00001/ids-c-prod-lpp/0225/952ffe3d299148599ceb7447b8007f6f_thb.jpg',\n",
              " 'https://cs.copart.com/v1/AUTH_svc.pdoc00001/ids-c-prod-lpp/0225/462115f29cb74e229f89bc04877495b8_thb.jpg',\n",
              " 'https://cs.copart.com/v1/AUTH_svc.pdoc00001/ids-c-prod-lpp/0225/2a6e7b9b312a47efb0ad729617c49e09_thb.jpg',\n",
              " '/build/spa/images/overlays-registeroverlay-img/thumbnail.bcd9772d.jpg',\n",
              " 'https://cs.copart.com/v1/AUTH_svc.pdoc00001/ids-c-prod-lpp/0125/308d984ec90d42dd862eee7e62d57270_thb.jpg',\n",
              " 'https://cs.copart.com/v1/AUTH_svc.pdoc00001/ids-c-prod-lpp/0125/34c82c3f1ca44e048e6e94f8498f8222_thb.jpg',\n",
              " 'https://cs.copart.com/v1/AUTH_svc.pdoc00001/ids-c-prod-lpp/0125/9a9c3ce6848d46d5ad1498358b68e4cd_thb.jpg',\n",
              " 'https://cs.copart.com/v1/AUTH_svc.pdoc00001/ids-c-prod-lpp/0125/701c8ff8fe93470099e7e789b9a80bcd_thb.jpg',\n",
              " 'https://cs.copart.com/v1/AUTH_svc.pdoc00001/ids-c-prod-lpp/0125/ae90bef00df94a64a993d8a356e53f37_thb.jpg',\n",
              " 'https://cs.copart.com/v1/AUTH_svc.pdoc00001/ids-c-prod-lpp/0125/a03f6aac66484039bf938108b94f3dfc_thb.jpg',\n",
              " 'https://cs.copart.com/v1/AUTH_svc.pdoc00001/ids-c-prod-lpp/0125/1ba638b9c8264f07b91f9e381672bde7_thb.jpg',\n",
              " 'https://cs.copart.com/v1/AUTH_svc.pdoc00001/ids-c-prod-lpp/0125/8147f3e0d1b740b0ba852418185b66c2_thb.jpg',\n",
              " 'https://cs.copart.com/v1/AUTH_svc.pdoc00001/ids-c-prod-lpp/0125/1dcbf417120e44d5b511cb8710abe2f5_thb.jpg',\n",
              " 'https://cs.copart.com/v1/AUTH_svc.pdoc00001/ids-c-prod-lpp/0125/b113828cf94f43ba8f4f5d590b74760e_thb.jpg',\n",
              " 'https://cs.copart.com/v1/AUTH_svc.pdoc00001/ids-c-prod-lpp/0125/ea3b45d531d44369a7303b47dc8cd867_thb.jpg',\n",
              " 'https://cs.copart.com/v1/AUTH_svc.pdoc00001/ids-c-prod-lpp/0125/212764e3446547868b084a1dd16c3c87_thb.jpg',\n",
              " '/build/spa/images/overlays-registeroverlay-img/thumbnail.bcd9772d.jpg',\n",
              " 'https://cs.copart.com/v1/AUTH_svc.pdoc00001/ids-c-prod-lpp/0125/423d57c16381446db2c08bb4ed6f7bfa_thb.jpg',\n",
              " 'https://cs.copart.com/v1/AUTH_svc.pdoc00001/ids-c-prod-lpp/0125/632fc898eab3428b90783c669ea64f70_thb.jpg',\n",
              " 'https://cs.copart.com/v1/AUTH_svc.pdoc00001/ids-c-prod-lpp/0125/1fcbc265ba9844d1904df4d6ad5900c1_thb.jpg',\n",
              " 'https://cs.copart.com/v1/AUTH_svc.pdoc00001/ids-c-prod-lpp/0125/3bf265d0ca974762aa8dbdfef5b91a29_thb.jpg',\n",
              " 'https://cs.copart.com/v1/AUTH_svc.pdoc00001/ids-c-prod-lpp/0125/31139450fa394c17aae549f69f216c23_thb.jpg',\n",
              " 'https://cs.copart.com/v1/AUTH_svc.pdoc00001/ids-c-prod-lpp/0125/cdd327c2e07a4a20b680a333b98f9787_thb.jpg',\n",
              " 'https://cs.copart.com/v1/AUTH_svc.pdoc00001/ids-c-prod-lpp/0125/823ce9d6ceb24e0dba1be857bd841433_thb.jpg',\n",
              " 'https://cs.copart.com/v1/AUTH_svc.pdoc00001/ids-c-prod-lpp/0125/5ac8cb70cdf24e61ba3daa08de6d2372_thb.jpg',\n",
              " 'https://cs.copart.com/v1/AUTH_svc.pdoc00001/ids-c-prod-lpp/0125/a7c346a400bf4121862d4f17b1e58a61_thb.jpg',\n",
              " 'https://cs.copart.com/v1/AUTH_svc.pdoc00001/ids-c-prod-lpp/0125/245fd53541cd49e9bfd43636d7867e45_thb.jpg',\n",
              " 'https://cs.copart.com/v1/AUTH_svc.pdoc00001/ids-c-prod-lpp/0125/b25c7cdd7d664e4a80a82250324241af_thb.jpg',\n",
              " 'https://cs.copart.com/v1/AUTH_svc.pdoc00001/ids-c-prod-lpp/0125/8a2ceeeb091143bf9d54709c63f8c06c_thb.jpg',\n",
              " '/build/spa/images/overlays-registeroverlay-img/thumbnail.bcd9772d.jpg',\n",
              " 'https://cs.copart.com/v1/AUTH_svc.pdoc00001/ids-c-prod-lpp/0125/10d90e795ccc448093707880f90835a1_thb.jpg',\n",
              " 'https://cs.copart.com/v1/AUTH_svc.pdoc00001/ids-c-prod-lpp/0225/e240cf9af65b4cdfb9811c127a7cc834_thb.jpg',\n",
              " 'https://cs.copart.com/v1/AUTH_svc.pdoc00001/ids-c-prod-lpp/0125/ae5fbc6706184a21a585fb27afa62342_thb.jpg',\n",
              " 'https://cs.copart.com/v1/AUTH_svc.pdoc00001/ids-c-prod-lpp/0125/4ec8b56344eb4d8c8029f4090c6aa8c9_thb.jpg',\n",
              " 'https://cs.copart.com/v1/AUTH_svc.pdoc00001/ids-c-prod-lpp/0125/8bfc412a21284bbd86ff7667a76b08d5_thb.jpg',\n",
              " 'https://cs.copart.com/v1/AUTH_svc.pdoc00001/ids-c-prod-lpp/0125/e142b563a5d244c4861cb0a5975cb09f_thb.jpg',\n",
              " 'https://cs.copart.com/v1/AUTH_svc.pdoc00001/ids-c-prod-lpp/0125/5a50f4fb369740cfa17a748679571dec_thb.jpg',\n",
              " 'https://cs.copart.com/v1/AUTH_svc.pdoc00001/ids-c-prod-lpp/0125/cf9224580f7c4370bf0c322c0956bf3c_thb.jpg',\n",
              " 'https://cs.copart.com/v1/AUTH_svc.pdoc00001/ids-c-prod-lpp/0125/049daf11e84b477a81082d3e384432ac_thb.jpg',\n",
              " 'https://cs.copart.com/v1/AUTH_svc.pdoc00001/ids-c-prod-lpp/0125/15f4dc75ad1f49fa844e8fcab44806e4_thb.jpg',\n",
              " 'https://cs.copart.com/v1/AUTH_svc.pdoc00001/ids-c-prod-lpp/0125/fc3b3418bf6448fd822f60980cdc6425_thb.jpg',\n",
              " 'https://cs.copart.com/v1/AUTH_svc.pdoc00001/ids-c-prod-lpp/0125/cbf3f29767ac4ac68b240b6c5b50b5eb_thb.jpg',\n",
              " 'https://cs.copart.com/v1/AUTH_svc.pdoc00001/ids-c-prod-lpp/0125/3ed81ba357ee4754aa72ddf35a028786_thb.jpg',\n",
              " '/build/spa/images/overlays-registeroverlay-img/thumbnail.bcd9772d.jpg',\n",
              " 'https://cs.copart.com/v1/AUTH_svc.pdoc00001/ids-c-prod-lpp/0225/19e98ef44f444bbea7a9c7ce03e87a63_thb.jpg',\n",
              " 'https://cs.copart.com/v1/AUTH_svc.pdoc00001/ids-c-prod-lpp/0225/c711698ca5e6434586c25fbd9b6117a0_thb.jpg',\n",
              " 'https://cs.copart.com/v1/AUTH_svc.pdoc00001/ids-c-prod-lpp/0225/ac743c0a8f7f4ad4beab0b18d30c4cd1_thb.jpg',\n",
              " 'https://cs.copart.com/v1/AUTH_svc.pdoc00001/ids-c-prod-lpp/1224/6d554e9ce78c464cb09e3791ac938b59_thb.jpg',\n",
              " 'https://cs.copart.com/v1/AUTH_svc.pdoc00001/ids-c-prod-lpp/1224/ae22c8aecf9849afa857e0d487fa23ef_thb.jpg',\n",
              " 'https://cs.copart.com/v1/AUTH_svc.pdoc00001/ids-c-prod-lpp/0225/05f62b6aa1154891b2543b5d2c3b1bd8_thb.jpg',\n",
              " 'https://cs.copart.com/v1/AUTH_svc.pdoc00001/ids-c-prod-lpp/1224/b8c10c614b4647c99639769036b69d4a_thb.jpg',\n",
              " 'https://cs.copart.com/v1/AUTH_svc.pdoc00001/ids-c-prod-lpp/1224/90931914d1b84b8a8a8fa2f19f3c0bad_thb.jpg',\n",
              " 'https://cs.copart.com/v1/AUTH_svc.pdoc00001/ids-c-prod-lpp/1224/0f39b805982948588861f036ff1eb225_thb.jpg',\n",
              " 'https://cs.copart.com/v1/AUTH_svc.pdoc00001/ids-c-prod-lpp/1224/735dd0d3815f43e8899c8cf7f293679c_thb.jpg',\n",
              " 'https://cs.copart.com/v1/AUTH_svc.pdoc00001/ids-c-prod-lpp/1224/81ec920568e0419db8a147bcfd319b19_thb.jpg',\n",
              " 'https://cs.copart.com/v1/AUTH_svc.pdoc00001/ids-c-prod-lpp/1224/e9385ba0194a4f9891c27ccda93b6cec_thb.jpg',\n",
              " 'https://cs.copart.com/v1/AUTH_svc.pdoc00001/ids-c-prod-lpp/1224/0da1b9ab61f147219221f93c14c06a11_thb.jpg',\n",
              " '/build/spa/images/overlays-registeroverlay-img/thumbnail.bcd9772d.jpg',\n",
              " 'https://cs.copart.com/v1/AUTH_svc.pdoc00001/ids-c-prod-lpp/0125/bedda6ad94d94df7a51cb18b564d045a_thb.jpg',\n",
              " 'https://cs.copart.com/v1/AUTH_svc.pdoc00001/ids-c-prod-lpp/0125/13e28193d01149d89cd8dbb3894e4723_thb.jpg',\n",
              " 'https://cs.copart.com/v1/AUTH_svc.pdoc00001/ids-c-prod-lpp/0125/677a5508014d4611bdca14530c5c85ae_thb.jpg',\n",
              " 'https://cs.copart.com/v1/AUTH_svc.pdoc00001/ids-c-prod-lpp/0125/72efb9bc803b44ba90ed78ed076c10fd_thb.jpg',\n",
              " 'https://cs.copart.com/v1/AUTH_svc.pdoc00001/ids-c-prod-lpp/0125/6d574174de824415ab10b8bda003a992_thb.jpg',\n",
              " 'https://cs.copart.com/v1/AUTH_svc.pdoc00001/ids-c-prod-lpp/0125/b2a598f34c25446a9a3e673a29345a4d_thb.jpg',\n",
              " 'https://cs.copart.com/v1/AUTH_svc.pdoc00001/ids-c-prod-lpp/0125/eeca03c389ba42699409595536b1ed98_thb.jpg',\n",
              " 'https://cs.copart.com/v1/AUTH_svc.pdoc00001/ids-c-prod-lpp/0125/39b904cf62bb43c2878c94e9a5fc27f9_thb.jpg',\n",
              " 'https://cs.copart.com/v1/AUTH_svc.pdoc00001/ids-c-prod-lpp/0125/2a42578b91694ba0b9541a95da2bf533_thb.jpg',\n",
              " 'https://cs.copart.com/v1/AUTH_svc.pdoc00001/ids-c-prod-lpp/0125/9c0681069ba14f94ac222bd2211db7af_thb.jpg',\n",
              " 'https://cs.copart.com/v1/AUTH_svc.pdoc00001/ids-c-prod-lpp/0125/29f496f7ecd04f56a25b4397c74641e8_thb.jpg',\n",
              " 'https://cs.copart.com/v1/AUTH_svc.pdoc00001/ids-c-prod-lpp/0125/c5f229002e704552a2f0f61a3a66590c_thb.jpg',\n",
              " 'https://cs.copart.com/v1/AUTH_svc.pdoc00001/ids-c-prod-lpp/0125/b349f9a9b54d4c9694f8305601e0f1db_thb.jpg',\n",
              " '/build/spa/images/overlays-registeroverlay-img/thumbnail.bcd9772d.jpg',\n",
              " 'https://cs.copart.com/v1/AUTH_svc.pdoc00001/ids-c-prod-lpp/0125/bde1606f95964078a28e291014cd41a0_thb.jpg',\n",
              " 'https://cs.copart.com/v1/AUTH_svc.pdoc00001/ids-c-prod-lpp/0125/06bf94db06184431aebf785262b9288d_thb.jpg',\n",
              " 'https://cs.copart.com/v1/AUTH_svc.pdoc00001/ids-c-prod-lpp/0125/4e3a57fbd88b46c7ac40fba8dae8b1c0_thb.jpg',\n",
              " 'https://cs.copart.com/v1/AUTH_svc.pdoc00001/ids-c-prod-lpp/0125/4eceb31a7a6243a4a9da08046371a7fb_thb.jpg',\n",
              " 'https://cs.copart.com/v1/AUTH_svc.pdoc00001/ids-c-prod-lpp/0125/359b1f210172423289055c3eace2d4ae_thb.jpg',\n",
              " 'https://cs.copart.com/v1/AUTH_svc.pdoc00001/ids-c-prod-lpp/0125/99618e6be6194b378659cf09dd4e42d1_thb.jpg',\n",
              " 'https://cs.copart.com/v1/AUTH_svc.pdoc00001/ids-c-prod-lpp/0125/c336feefd56e47c3a86fe8d297b41882_thb.jpg',\n",
              " 'https://cs.copart.com/v1/AUTH_svc.pdoc00001/ids-c-prod-lpp/0125/ea4a0f1f22a64da380f6a5528aeecfd3_thb.jpg',\n",
              " 'https://cs.copart.com/v1/AUTH_svc.pdoc00001/ids-c-prod-lpp/0125/a4b5030cc5004d1e9e0469cdfb0544be_thb.jpg',\n",
              " 'https://cs.copart.com/v1/AUTH_svc.pdoc00001/ids-c-prod-lpp/0125/0690853110f04fc69b0948ad34ef32b6_thb.jpg',\n",
              " 'https://cs.copart.com/v1/AUTH_svc.pdoc00001/ids-c-prod-lpp/0125/1d8aaa3804c945b99ea31978cfeacf41_thb.jpg',\n",
              " 'https://cs.copart.com/v1/AUTH_svc.pdoc00001/ids-c-prod-lpp/0125/d09fa913fe8843aba9b8a5c959568b47_thb.jpg',\n",
              " 'https://cs.copart.com/v1/AUTH_svc.pdoc00001/ids-c-prod-lpp/0125/c7fa1b20425649348da56228de97594d_thb.jpg',\n",
              " '/build/spa/images/overlays-registeroverlay-img/thumbnail.bcd9772d.jpg',\n",
              " 'https://cs.copart.com/v1/AUTH_svc.pdoc00001/ids-c-prod-lpp/0225/f6a53141fabb408c88ffc2f1af290a3e_thb.jpg',\n",
              " 'https://cs.copart.com/v1/AUTH_svc.pdoc00001/ids-c-prod-lpp/0225/e141d8986c534690bd96171b3c373ff1_thb.jpg',\n",
              " 'https://cs.copart.com/v1/AUTH_svc.pdoc00001/ids-c-prod-lpp/0225/d1f3c018fb124109a8c2bdb85921807f_thb.jpg',\n",
              " 'https://cs.copart.com/v1/AUTH_svc.pdoc00001/ids-c-prod-lpp/0225/1f31525992ae46ed95c786fdc7aa0e46_thb.jpg',\n",
              " 'https://cs.copart.com/v1/AUTH_svc.pdoc00001/ids-c-prod-lpp/0225/6524cff1e7914ec6a22d136446b24205_thb.jpg',\n",
              " 'https://cs.copart.com/v1/AUTH_svc.pdoc00001/ids-c-prod-lpp/0225/2bc8e4e9dd0349fb801b6de53957d215_thb.jpg',\n",
              " 'https://cs.copart.com/v1/AUTH_svc.pdoc00001/ids-c-prod-lpp/0225/f0987f934c1d45b9ac8be84213cc1701_thb.jpg',\n",
              " 'https://cs.copart.com/v1/AUTH_svc.pdoc00001/ids-c-prod-lpp/0225/8f709961ea3c4a6284e2c213699270d7_thb.jpg',\n",
              " 'https://cs.copart.com/v1/AUTH_svc.pdoc00001/ids-c-prod-lpp/0225/209f066a95a04fc8946776372c0cebfa_thb.jpg',\n",
              " 'https://cs.copart.com/v1/AUTH_svc.pdoc00001/ids-c-prod-lpp/0225/223c0bdc2506424f9ce57b1dccd56f49_thb.jpg',\n",
              " 'https://cs.copart.com/v1/AUTH_svc.pdoc00001/ids-c-prod-lpp/0225/d9dd98fa855241b5a49682a9a8d0a281_thb.jpg',\n",
              " 'https://cs.copart.com/v1/AUTH_svc.pdoc00001/ids-c-prod-lpp/0225/ff4f32ba01b34e88a6ea19a867610996_thb.jpg',\n",
              " 'https://cs.copart.com/v1/AUTH_svc.pdoc00001/ids-c-prod-lpp/0225/d082ca8cfa744d01b84055f9c7116d1c_thb.jpg',\n",
              " 'https://cs.copart.com/v1/AUTH_svc.pdoc00001/ids-c-prod-lpp/0225/51e02fab3a8c486a876d0a8aa14eb85c_thb.jpg',\n",
              " '/build/spa/images/overlays-registeroverlay-img/thumbnail.bcd9772d.jpg',\n",
              " 'https://cs.copart.com/v1/AUTH_svc.pdoc00001/ids-c-prod-lpp/0125/677116b52638443d9d97703a1ee9084e_thb.jpg',\n",
              " 'https://cs.copart.com/v1/AUTH_svc.pdoc00001/ids-c-prod-lpp/0125/27f47af9db7a49e2b70566686e9b3697_thb.jpg',\n",
              " 'https://cs.copart.com/v1/AUTH_svc.pdoc00001/ids-c-prod-lpp/0125/0b03e7a6e85e476dba058fa84bf2450c_thb.jpg',\n",
              " 'https://cs.copart.com/v1/AUTH_svc.pdoc00001/ids-c-prod-lpp/0125/a411f73a9daf44d894cc5c1283eed79b_thb.jpg',\n",
              " 'https://cs.copart.com/v1/AUTH_svc.pdoc00001/ids-c-prod-lpp/0125/db6ed769924a4ed5839411bc36590105_thb.jpg',\n",
              " 'https://cs.copart.com/v1/AUTH_svc.pdoc00001/ids-c-prod-lpp/0125/55f9d4f4454e4340814eea5b44f2ee31_thb.jpg',\n",
              " 'https://cs.copart.com/v1/AUTH_svc.pdoc00001/ids-c-prod-lpp/0125/8f86589bb11a4cbd8f72a9358d23f280_thb.jpg',\n",
              " 'https://cs.copart.com/v1/AUTH_svc.pdoc00001/ids-c-prod-lpp/0125/cdf2a21896b244ab915d0921fed56fca_thb.jpg',\n",
              " 'https://cs.copart.com/v1/AUTH_svc.pdoc00001/ids-c-prod-lpp/0125/10d3098efbb9409da4f9cf1ee6296261_thb.jpg',\n",
              " 'https://cs.copart.com/v1/AUTH_svc.pdoc00001/ids-c-prod-lpp/0125/8e80656843064a17b36aa4a0b9524ad6_thb.jpg',\n",
              " 'https://cs.copart.com/v1/AUTH_svc.pdoc00001/ids-c-prod-lpp/0125/7ed3c337efb64d9d9cff75c44272f015_thb.jpg',\n",
              " 'https://cs.copart.com/v1/AUTH_svc.pdoc00001/ids-c-prod-lpp/0125/2a394c2d260c4ca794e81892f65f88d0_thb.jpg',\n",
              " 'https://cs.copart.com/v1/AUTH_svc.pdoc00001/ids-c-prod-lpp/0125/e3e4d9b5e11b4e4683e8e71c6b28d592_thb.jpg',\n",
              " '/build/spa/images/overlays-registeroverlay-img/thumbnail.bcd9772d.jpg',\n",
              " 'https://cs.copart.com/v1/AUTH_svc.pdoc00001/ids-c-prod-lpp/0225/79e6ee1021d047e89c814b1ba253a703_thb.jpg',\n",
              " 'https://cs.copart.com/v1/AUTH_svc.pdoc00001/ids-c-prod-lpp/0225/25e9e0cf61d24226983c0e0d77c1b905_thb.jpg',\n",
              " 'https://cs.copart.com/v1/AUTH_svc.pdoc00001/ids-c-prod-lpp/0225/7a28f173d380446bb42962c0f2b41578_thb.jpg',\n",
              " 'https://cs.copart.com/v1/AUTH_svc.pdoc00001/ids-c-prod-lpp/0225/e3182ab015a24b62a4fca0cabd409b6f_thb.jpg',\n",
              " 'https://cs.copart.com/v1/AUTH_svc.pdoc00001/ids-c-prod-lpp/0225/34aa447777bc4782a20fb87d28e0ec1a_thb.jpg',\n",
              " 'https://cs.copart.com/v1/AUTH_svc.pdoc00001/ids-c-prod-lpp/0225/cb71b56fe2f64d85bcea7e70df710b2b_thb.jpg',\n",
              " 'https://cs.copart.com/v1/AUTH_svc.pdoc00001/ids-c-prod-lpp/0225/1cca6aef70b34a8480557d7c0f85cadc_thb.jpg',\n",
              " 'https://cs.copart.com/v1/AUTH_svc.pdoc00001/ids-c-prod-lpp/0225/70fc7aaabfa74b52bbc52179f9fdb82e_thb.jpg',\n",
              " 'https://cs.copart.com/v1/AUTH_svc.pdoc00001/ids-c-prod-lpp/0225/04493cf5b47843faa9fb659e5bc02aae_thb.jpg',\n",
              " 'https://cs.copart.com/v1/AUTH_svc.pdoc00001/ids-c-prod-lpp/0225/cd215fa4c8e14639b21a8fe6d5acb573_thb.jpg',\n",
              " 'https://cs.copart.com/v1/AUTH_svc.pdoc00001/ids-c-prod-lpp/0225/59dede29402a40e786965ea9f0efea93_thb.jpg',\n",
              " 'https://cs.copart.com/v1/AUTH_svc.pdoc00001/ids-c-prod-lpp/0225/c2b9c95659f64797a6886796d6397cf7_thb.jpg',\n",
              " '/build/spa/images/overlays-registeroverlay-img/thumbnail.bcd9772d.jpg',\n",
              " 'https://cs.copart.com/v1/AUTH_svc.pdoc00001/ids-c-prod-lpp/0225/7f93f370f92e45039562b62689924c24_thb.jpg',\n",
              " 'https://cs.copart.com/v1/AUTH_svc.pdoc00001/ids-c-prod-lpp/0225/ecd22fa388484566a088d005d09f9855_thb.jpg',\n",
              " 'https://cs.copart.com/v1/AUTH_svc.pdoc00001/ids-c-prod-lpp/0225/ddd1a4b4942f4439a2ed9d1fb690a522_thb.jpg',\n",
              " 'https://cs.copart.com/v1/AUTH_svc.pdoc00001/ids-c-prod-lpp/0225/94b389d606154ff387af219e179649a0_thb.jpg',\n",
              " 'https://cs.copart.com/v1/AUTH_svc.pdoc00001/ids-c-prod-lpp/0225/e37f3380b9ec4797b9b098374137c36c_thb.jpg',\n",
              " 'https://cs.copart.com/v1/AUTH_svc.pdoc00001/ids-c-prod-lpp/0225/376943b1778e4a799bbae17370421d82_thb.jpg',\n",
              " 'https://cs.copart.com/v1/AUTH_svc.pdoc00001/ids-c-prod-lpp/0225/e7de3c91232748a7908beaeb16aa7dfe_thb.jpg',\n",
              " 'https://cs.copart.com/v1/AUTH_svc.pdoc00001/ids-c-prod-lpp/0225/72786faebe26461b881dff809d6d1c87_thb.jpg',\n",
              " 'https://cs.copart.com/v1/AUTH_svc.pdoc00001/ids-c-prod-lpp/0225/eb7e83223c73436f915742cb82e63170_thb.jpg',\n",
              " 'https://cs.copart.com/v1/AUTH_svc.pdoc00001/ids-c-prod-lpp/0225/a34cc6b2d82940b8b22b9666d46963c1_thb.jpg',\n",
              " 'https://cs.copart.com/v1/AUTH_svc.pdoc00001/ids-c-prod-lpp/0225/b63f7bc251104fbebb4efabc3ae16235_thb.jpg',\n",
              " 'https://cs.copart.com/v1/AUTH_svc.pdoc00001/ids-c-prod-lpp/0225/c5355a1add8e4cbaa7ae58d02a18eb1c_thb.jpg',\n",
              " 'https://cs.copart.com/v1/AUTH_svc.pdoc00001/ids-c-prod-lpp/0225/f1507bb5a896414780e3af273b2d9874_thb.jpg',\n",
              " 'https://cs.copart.com/v1/AUTH_svc.pdoc00001/ids-c-prod-lpp/0225/21edd37c1ab94ebc9c2e9c9907a93983_thb.jpg',\n",
              " '/build/spa/images/overlays-registeroverlay-img/thumbnail.bcd9772d.jpg',\n",
              " 'https://cs.copart.com/v1/AUTH_svc.pdoc00001/ids-c-prod-lpp/0125/ef48a58195074731bc8e443a0e7c2305_thb.jpg',\n",
              " 'https://cs.copart.com/v1/AUTH_svc.pdoc00001/ids-c-prod-lpp/0125/ea743847c7da459990e88f7cbbe4a2e3_thb.jpg',\n",
              " 'https://cs.copart.com/v1/AUTH_svc.pdoc00001/ids-c-prod-lpp/0125/acec6f89669f4d6c8def0614993f3608_thb.jpg',\n",
              " 'https://cs.copart.com/v1/AUTH_svc.pdoc00001/ids-c-prod-lpp/0125/9bfdd9d1585b40e59d0c443585c5a6d7_thb.jpg',\n",
              " 'https://cs.copart.com/v1/AUTH_svc.pdoc00001/ids-c-prod-lpp/0125/267182570b6149f6a4aca95eb94c513b_thb.jpg',\n",
              " 'https://cs.copart.com/v1/AUTH_svc.pdoc00001/ids-c-prod-lpp/0125/79a14c152281482d82f95c3d74fdd8a5_thb.jpg',\n",
              " 'https://cs.copart.com/v1/AUTH_svc.pdoc00001/ids-c-prod-lpp/0125/1ca6821af1194b90955538832670bfec_thb.jpg',\n",
              " 'https://cs.copart.com/v1/AUTH_svc.pdoc00001/ids-c-prod-lpp/0125/7657ba3ed52743308384fc770582e7e5_thb.jpg',\n",
              " 'https://cs.copart.com/v1/AUTH_svc.pdoc00001/ids-c-prod-lpp/0125/af1a31bccbf9445299ac11315f2b754c_thb.jpg',\n",
              " 'https://cs.copart.com/v1/AUTH_svc.pdoc00001/ids-c-prod-lpp/0125/4748056d92a14fe08329d57a717f38b7_thb.jpg',\n",
              " 'https://cs.copart.com/v1/AUTH_svc.pdoc00001/ids-c-prod-lpp/0125/46b8c2f034604fbcaf74dab11152e142_thb.jpg',\n",
              " 'https://cs.copart.com/v1/AUTH_svc.pdoc00001/ids-c-prod-lpp/0125/af162b2061e046b9ae1feb61d851cbdf_thb.jpg',\n",
              " 'https://cs.copart.com/v1/AUTH_svc.pdoc00001/ids-c-prod-lpp/0125/4c35975710314f688b29527aab7cd082_thb.jpg',\n",
              " '/build/spa/images/overlays-registeroverlay-img/thumbnail.bcd9772d.jpg',\n",
              " 'https://cs.copart.com/v1/AUTH_svc.pdoc00001/ids-c-prod-lpp/0125/478cdc237d984d58a14dfcc2aa98361e_thb.jpg',\n",
              " 'https://cs.copart.com/v1/AUTH_svc.pdoc00001/ids-c-prod-lpp/0125/7d21fb8defd540e8b5fa5b0a486ed970_thb.jpg',\n",
              " 'https://cs.copart.com/v1/AUTH_svc.pdoc00001/ids-c-prod-lpp/0125/d4366500da054402a4249fa2750225f8_thb.jpg',\n",
              " 'https://cs.copart.com/v1/AUTH_svc.pdoc00001/ids-c-prod-lpp/0125/c53b364e4d524e6cae70b9bec1142b1f_thb.jpg',\n",
              " 'https://cs.copart.com/v1/AUTH_svc.pdoc00001/ids-c-prod-lpp/0125/8c9d9f01a3c54c438cd2f8e78a334bb6_thb.jpg',\n",
              " 'https://cs.copart.com/v1/AUTH_svc.pdoc00001/ids-c-prod-lpp/0125/18e38820fc824dd5990790fcb3c347a0_thb.jpg',\n",
              " 'https://cs.copart.com/v1/AUTH_svc.pdoc00001/ids-c-prod-lpp/0125/4cbb0c140b2347689db3e4ea517328ba_thb.jpg',\n",
              " 'https://cs.copart.com/v1/AUTH_svc.pdoc00001/ids-c-prod-lpp/0125/a0184e4712aa4e9690232dd45be979d6_thb.jpg',\n",
              " 'https://cs.copart.com/v1/AUTH_svc.pdoc00001/ids-c-prod-lpp/0125/2ffa541360394d40aa81a9560f9f7d75_thb.jpg',\n",
              " 'https://cs.copart.com/v1/AUTH_svc.pdoc00001/ids-c-prod-lpp/0125/497d410920d24bf79d5afd69a8b07fbc_thb.jpg',\n",
              " 'https://cs.copart.com/v1/AUTH_svc.pdoc00001/ids-c-prod-lpp/0125/024e908a3552499e83cfdf99664c45ab_thb.jpg',\n",
              " 'https://cs.copart.com/v1/AUTH_svc.pdoc00001/ids-c-prod-lpp/0125/d6b08537bbf54363a71279d53e9735bf_thb.jpg',\n",
              " 'https://cs.copart.com/v1/AUTH_svc.pdoc00001/ids-c-prod-lpp/0125/cb8b0eac7e5244079cb5fc6b3ccdded7_thb.jpg',\n",
              " '/build/spa/images/overlays-registeroverlay-img/thumbnail.bcd9772d.jpg',\n",
              " 'https://cs.copart.com/v1/AUTH_svc.pdoc00001/ids-c-prod-lpp/0125/2213e9efa3f44f32ac0096f0ca80d999_thb.jpg',\n",
              " 'https://cs.copart.com/v1/AUTH_svc.pdoc00001/ids-c-prod-lpp/0125/308116bc496846faba40ad83838285a3_thb.jpg',\n",
              " 'https://cs.copart.com/v1/AUTH_svc.pdoc00001/ids-c-prod-lpp/0125/793fa1ba252d4556875f6c2c1ca2ae71_thb.jpg',\n",
              " 'https://cs.copart.com/v1/AUTH_svc.pdoc00001/ids-c-prod-lpp/0125/d2f44835a0a54e7ab773bef6fe405076_thb.jpg',\n",
              " 'https://cs.copart.com/v1/AUTH_svc.pdoc00001/ids-c-prod-lpp/0125/f5eaf316cb774d4894210ac79ea21b6d_thb.jpg',\n",
              " 'https://cs.copart.com/v1/AUTH_svc.pdoc00001/ids-c-prod-lpp/0125/ec30b59e1c65494bbe52e21e481cd6c4_thb.jpg',\n",
              " 'https://cs.copart.com/v1/AUTH_svc.pdoc00001/ids-c-prod-lpp/0125/fa057455ad4f47b48a53a820327084be_thb.jpg',\n",
              " 'https://cs.copart.com/v1/AUTH_svc.pdoc00001/ids-c-prod-lpp/0125/6a6b66d3cb104d36952b070c6aab511d_thb.jpg',\n",
              " 'https://cs.copart.com/v1/AUTH_svc.pdoc00001/ids-c-prod-lpp/0125/633c4400ad114ca3a8d6f49ee517ca7b_thb.jpg',\n",
              " 'https://cs.copart.com/v1/AUTH_svc.pdoc00001/ids-c-prod-lpp/0125/6b36b5214e6d44d48c7150f50f219340_thb.jpg',\n",
              " 'https://cs.copart.com/v1/AUTH_svc.pdoc00001/ids-c-prod-lpp/0125/cf3325db8f5f4a9f800e49a027994e49_thb.jpg',\n",
              " 'https://cs.copart.com/v1/AUTH_svc.pdoc00001/ids-c-prod-lpp/0125/05441e891cc04ba4a21b809b7ff1104b_thb.jpg',\n",
              " '/build/spa/images/overlays-registeroverlay-img/thumbnail.bcd9772d.jpg',\n",
              " 'https://cs.copart.com/v1/AUTH_svc.pdoc00001/ids-c-prod-lpp/1224/b9effbd06cde485d821753cb307a6725_thb.jpg',\n",
              " 'https://cs.copart.com/v1/AUTH_svc.pdoc00001/ids-c-prod-lpp/1224/fc2912c15b0446f6905332baca3e4cee_thb.jpg',\n",
              " 'https://cs.copart.com/v1/AUTH_svc.pdoc00001/ids-c-prod-lpp/1224/c3263eca72544c31ab3eaaa99673b1df_thb.jpg',\n",
              " 'https://cs.copart.com/v1/AUTH_svc.pdoc00001/ids-c-prod-lpp/1224/888acd2bfb9a45c3aa9c232ed1411f42_thb.jpg',\n",
              " 'https://cs.copart.com/v1/AUTH_svc.pdoc00001/ids-c-prod-lpp/1224/38449682266f489d95b3de75c961b100_thb.jpg',\n",
              " 'https://cs.copart.com/v1/AUTH_svc.pdoc00001/ids-c-prod-lpp/1224/c6a70cf40b164fc9bf0aa061ae8f3b06_thb.jpg',\n",
              " 'https://cs.copart.com/v1/AUTH_svc.pdoc00001/ids-c-prod-lpp/1224/fc3879dcaa7449a7a9cb6506742324db_thb.jpg',\n",
              " 'https://cs.copart.com/v1/AUTH_svc.pdoc00001/ids-c-prod-lpp/1224/f0909bd337b0481fa75c69173be6f8e0_thb.jpg',\n",
              " 'https://cs.copart.com/v1/AUTH_svc.pdoc00001/ids-c-prod-lpp/1224/f8e9d19e291242dfaf822c50c36c5aef_thb.jpg',\n",
              " 'https://cs.copart.com/v1/AUTH_svc.pdoc00001/ids-c-prod-lpp/1224/2909d366100d4d32a0dc481cc34a56f2_thb.jpg',\n",
              " 'https://cs.copart.com/v1/AUTH_svc.pdoc00001/ids-c-prod-lpp/1224/410e94ce97274dff927b6d8b49fa2866_thb.jpg',\n",
              " 'https://cs.copart.com/v1/AUTH_svc.pdoc00001/ids-c-prod-lpp/1224/eda9988ed73f4817ba7f46b039c3670b_thb.jpg',\n",
              " '/build/spa/images/overlays-registeroverlay-img/thumbnail.bcd9772d.jpg',\n",
              " 'https://cs.copart.com/v1/AUTH_svc.pdoc00001/ids-c-prod-lpp/0125/423d57c16381446db2c08bb4ed6f7bfa_thb.jpg',\n",
              " 'https://cs.copart.com/v1/AUTH_svc.pdoc00001/ids-c-prod-lpp/0125/632fc898eab3428b90783c669ea64f70_thb.jpg',\n",
              " 'https://cs.copart.com/v1/AUTH_svc.pdoc00001/ids-c-prod-lpp/0125/1fcbc265ba9844d1904df4d6ad5900c1_thb.jpg',\n",
              " 'https://cs.copart.com/v1/AUTH_svc.pdoc00001/ids-c-prod-lpp/0125/3bf265d0ca974762aa8dbdfef5b91a29_thb.jpg',\n",
              " 'https://cs.copart.com/v1/AUTH_svc.pdoc00001/ids-c-prod-lpp/0125/31139450fa394c17aae549f69f216c23_thb.jpg',\n",
              " 'https://cs.copart.com/v1/AUTH_svc.pdoc00001/ids-c-prod-lpp/0125/cdd327c2e07a4a20b680a333b98f9787_thb.jpg',\n",
              " 'https://cs.copart.com/v1/AUTH_svc.pdoc00001/ids-c-prod-lpp/0125/823ce9d6ceb24e0dba1be857bd841433_thb.jpg',\n",
              " 'https://cs.copart.com/v1/AUTH_svc.pdoc00001/ids-c-prod-lpp/0125/5ac8cb70cdf24e61ba3daa08de6d2372_thb.jpg',\n",
              " 'https://cs.copart.com/v1/AUTH_svc.pdoc00001/ids-c-prod-lpp/0125/a7c346a400bf4121862d4f17b1e58a61_thb.jpg',\n",
              " 'https://cs.copart.com/v1/AUTH_svc.pdoc00001/ids-c-prod-lpp/0125/245fd53541cd49e9bfd43636d7867e45_thb.jpg',\n",
              " 'https://cs.copart.com/v1/AUTH_svc.pdoc00001/ids-c-prod-lpp/0125/b25c7cdd7d664e4a80a82250324241af_thb.jpg',\n",
              " 'https://cs.copart.com/v1/AUTH_svc.pdoc00001/ids-c-prod-lpp/0125/8a2ceeeb091143bf9d54709c63f8c06c_thb.jpg',\n",
              " '/build/spa/images/overlays-registeroverlay-img/thumbnail.bcd9772d.jpg',\n",
              " 'https://cs.copart.com/v1/AUTH_svc.pdoc00001/ids-c-prod-lpp/0125/10d90e795ccc448093707880f90835a1_thb.jpg',\n",
              " 'https://cs.copart.com/v1/AUTH_svc.pdoc00001/ids-c-prod-lpp/0225/e240cf9af65b4cdfb9811c127a7cc834_thb.jpg',\n",
              " 'https://cs.copart.com/v1/AUTH_svc.pdoc00001/ids-c-prod-lpp/0125/ae5fbc6706184a21a585fb27afa62342_thb.jpg',\n",
              " 'https://cs.copart.com/v1/AUTH_svc.pdoc00001/ids-c-prod-lpp/0125/4ec8b56344eb4d8c8029f4090c6aa8c9_thb.jpg',\n",
              " 'https://cs.copart.com/v1/AUTH_svc.pdoc00001/ids-c-prod-lpp/0125/8bfc412a21284bbd86ff7667a76b08d5_thb.jpg',\n",
              " 'https://cs.copart.com/v1/AUTH_svc.pdoc00001/ids-c-prod-lpp/0125/e142b563a5d244c4861cb0a5975cb09f_thb.jpg',\n",
              " 'https://cs.copart.com/v1/AUTH_svc.pdoc00001/ids-c-prod-lpp/0125/5a50f4fb369740cfa17a748679571dec_thb.jpg',\n",
              " 'https://cs.copart.com/v1/AUTH_svc.pdoc00001/ids-c-prod-lpp/0125/cf9224580f7c4370bf0c322c0956bf3c_thb.jpg',\n",
              " 'https://cs.copart.com/v1/AUTH_svc.pdoc00001/ids-c-prod-lpp/0125/049daf11e84b477a81082d3e384432ac_thb.jpg',\n",
              " 'https://cs.copart.com/v1/AUTH_svc.pdoc00001/ids-c-prod-lpp/0125/15f4dc75ad1f49fa844e8fcab44806e4_thb.jpg',\n",
              " 'https://cs.copart.com/v1/AUTH_svc.pdoc00001/ids-c-prod-lpp/0125/fc3b3418bf6448fd822f60980cdc6425_thb.jpg',\n",
              " 'https://cs.copart.com/v1/AUTH_svc.pdoc00001/ids-c-prod-lpp/0125/cbf3f29767ac4ac68b240b6c5b50b5eb_thb.jpg',\n",
              " 'https://cs.copart.com/v1/AUTH_svc.pdoc00001/ids-c-prod-lpp/0125/3ed81ba357ee4754aa72ddf35a028786_thb.jpg',\n",
              " '/build/spa/images/overlays-registeroverlay-img/thumbnail.bcd9772d.jpg',\n",
              " 'https://cs.copart.com/v1/AUTH_svc.pdoc00001/ids-c-prod-lpp/0225/8400d612ed514e92b286cd7251b1704c_thb.jpg',\n",
              " 'https://cs.copart.com/v1/AUTH_svc.pdoc00001/ids-c-prod-lpp/0225/b8a68ad67c8545fdb39a1a369b163bd1_thb.jpg',\n",
              " 'https://cs.copart.com/v1/AUTH_svc.pdoc00001/ids-c-prod-lpp/0225/110ff85ae72549cf9724c31ab0238001_thb.jpg',\n",
              " 'https://cs.copart.com/v1/AUTH_svc.pdoc00001/ids-c-prod-lpp/0225/db6bfde1fba94e5bbdd2e3b6f67c03b6_thb.jpg',\n",
              " 'https://cs.copart.com/v1/AUTH_svc.pdoc00001/ids-c-prod-lpp/0225/d8796fea26004194bffa02c2b579c68c_thb.jpg',\n",
              " 'https://cs.copart.com/v1/AUTH_svc.pdoc00001/ids-c-prod-lpp/0225/11fb577cc6ad4ab395abdf699a307b61_thb.jpg',\n",
              " 'https://cs.copart.com/v1/AUTH_svc.pdoc00001/ids-c-prod-lpp/0225/183ba21749504d59982a427f29cb851f_thb.jpg',\n",
              " 'https://cs.copart.com/v1/AUTH_svc.pdoc00001/ids-c-prod-lpp/0225/703879bd769c4316965870a0abc48cfc_thb.jpg',\n",
              " 'https://cs.copart.com/v1/AUTH_svc.pdoc00001/ids-c-prod-lpp/0225/ae30b042925f4e33b80d021b19421e81_thb.jpg',\n",
              " 'https://cs.copart.com/v1/AUTH_svc.pdoc00001/ids-c-prod-lpp/0225/23b507699c874d6e9f59756125611f12_thb.jpg',\n",
              " 'https://cs.copart.com/v1/AUTH_svc.pdoc00001/ids-c-prod-lpp/0225/93e22e1b4528400e909cc07d5ee0afd4_thb.jpg',\n",
              " 'https://cs.copart.com/v1/AUTH_svc.pdoc00001/ids-c-prod-lpp/0225/2c0bd5653632431f8cc6695e13b75569_thb.jpg',\n",
              " '/build/spa/images/overlays-registeroverlay-img/thumbnail.bcd9772d.jpg',\n",
              " 'https://cs.copart.com/v1/AUTH_svc.pdoc00001/ids-c-prod-lpp/0225/2e77064a7e81451eab50bbed1043110d_thb.jpg',\n",
              " 'https://cs.copart.com/v1/AUTH_svc.pdoc00001/ids-c-prod-lpp/0225/d50b8ab321364b3d898f6aa57a4b7d43_thb.jpg',\n",
              " 'https://cs.copart.com/v1/AUTH_svc.pdoc00001/ids-c-prod-lpp/0225/3a1b7908e7b04aae97979b4ff228dda9_thb.jpg',\n",
              " 'https://cs.copart.com/v1/AUTH_svc.pdoc00001/ids-c-prod-lpp/0225/ac1652af87734a59a1903e41a43a80f5_thb.jpg',\n",
              " 'https://cs.copart.com/v1/AUTH_svc.pdoc00001/ids-c-prod-lpp/0225/d58490ee31ca4c598b9fdaf5ee39791a_thb.jpg',\n",
              " 'https://cs.copart.com/v1/AUTH_svc.pdoc00001/ids-c-prod-lpp/0225/a11093a687084d32a14bb42bc5d9d2d1_thb.jpg',\n",
              " 'https://cs.copart.com/v1/AUTH_svc.pdoc00001/ids-c-prod-lpp/0225/2f4697ee2ffa45c980cfb3369640d021_thb.jpg',\n",
              " 'https://cs.copart.com/v1/AUTH_svc.pdoc00001/ids-c-prod-lpp/0225/d32d8afec55a49178a96fb76e883dacc_thb.jpg',\n",
              " 'https://cs.copart.com/v1/AUTH_svc.pdoc00001/ids-c-prod-lpp/0225/249e2f621f514b62a6f11acc7cedfac7_thb.jpg',\n",
              " 'https://cs.copart.com/v1/AUTH_svc.pdoc00001/ids-c-prod-lpp/0225/74af76258ecf43e4af34d087d991006c_thb.jpg',\n",
              " 'https://cs.copart.com/v1/AUTH_svc.pdoc00001/ids-c-prod-lpp/0225/31a47dac5ea8439ab3cdc0e985504412_thb.jpg',\n",
              " 'https://cs.copart.com/v1/AUTH_svc.pdoc00001/ids-c-prod-lpp/0225/c71213044bd544a4963bc97d83a2f47c_thb.jpg',\n",
              " 'https://cs.copart.com/v1/AUTH_svc.pdoc00001/ids-c-prod-lpp/0225/bf454da8637b4384b3db2e5b17d0a4e1_thb.jpg',\n",
              " '/build/spa/images/overlays-registeroverlay-img/thumbnail.bcd9772d.jpg',\n",
              " 'https://cs.copart.com/v1/AUTH_svc.pdoc00001/ids-c-prod-lpp/0225/0aded13891d74518aca2b52f6f487535_thb.jpg',\n",
              " 'https://cs.copart.com/v1/AUTH_svc.pdoc00001/ids-c-prod-lpp/0225/cbe6d826bee542e89adeb539b67c0dff_thb.jpg',\n",
              " 'https://cs.copart.com/v1/AUTH_svc.pdoc00001/ids-c-prod-lpp/0225/acf7804e499a48ffb84113b05f682d71_thb.jpg',\n",
              " 'https://cs.copart.com/v1/AUTH_svc.pdoc00001/ids-c-prod-lpp/0225/fa03a84087e6401795289a6fa0d23fee_thb.jpg',\n",
              " 'https://cs.copart.com/v1/AUTH_svc.pdoc00001/ids-c-prod-lpp/0225/32debd1e050d4417b448d24a5c0bfd6c_thb.jpg',\n",
              " 'https://cs.copart.com/v1/AUTH_svc.pdoc00001/ids-c-prod-lpp/0225/42467176de5a4f42896036cd60f20480_thb.jpg',\n",
              " 'https://cs.copart.com/v1/AUTH_svc.pdoc00001/ids-c-prod-lpp/0225/63be61f6499e4478831ae73eaff97666_thb.jpg',\n",
              " 'https://cs.copart.com/v1/AUTH_svc.pdoc00001/ids-c-prod-lpp/0225/f725b3a2b7dd463e9a3c209ecb75dd1e_thb.jpg',\n",
              " 'https://cs.copart.com/v1/AUTH_svc.pdoc00001/ids-c-prod-lpp/0225/35b92b32821442c5b853eb0fda3c532d_thb.jpg',\n",
              " 'https://cs.copart.com/v1/AUTH_svc.pdoc00001/ids-c-prod-lpp/0225/22094b2b8b144ff2bcfd2b2fc41bae0c_thb.jpg',\n",
              " 'https://cs.copart.com/v1/AUTH_svc.pdoc00001/ids-c-prod-lpp/0225/8c56c1fabcd4489ba9267553fd2e67da_thb.jpg',\n",
              " 'https://cs.copart.com/v1/AUTH_svc.pdoc00001/ids-c-prod-lpp/0225/f95b103de1ca437eb9331e433d469e56_thb.jpg',\n",
              " '/build/spa/images/overlays-registeroverlay-img/thumbnail.bcd9772d.jpg',\n",
              " 'https://cs.copart.com/v1/AUTH_svc.pdoc00001/ids-c-prod-lpp/1024/be2939b33ae14d05b535034ae3906bff_thb.jpg',\n",
              " 'https://cs.copart.com/v1/AUTH_svc.pdoc00001/ids-c-prod-lpp/1024/8b755bb7f31543feaeadec2c3c2eec23_thb.jpg',\n",
              " 'https://cs.copart.com/v1/AUTH_svc.pdoc00001/ids-c-prod-lpp/1024/3955de12a6d3441ea8e9dfb0deeeb77e_thb.jpg',\n",
              " 'https://cs.copart.com/v1/AUTH_svc.pdoc00001/ids-c-prod-lpp/1024/4b852657765847598c7d6ff3cdc1dd04_thb.jpg',\n",
              " 'https://cs.copart.com/v1/AUTH_svc.pdoc00001/ids-c-prod-lpp/1024/64c56439cde544c18a8f06bfc256fedd_thb.jpg',\n",
              " 'https://cs.copart.com/v1/AUTH_svc.pdoc00001/ids-c-prod-lpp/1024/a5c9083f0cd643e6ac9266ff8f099829_thb.jpg',\n",
              " 'https://cs.copart.com/v1/AUTH_svc.pdoc00001/ids-c-prod-lpp/1024/d5796d90b4fb4682b7fc0dd45c6b7408_thb.jpg',\n",
              " 'https://cs.copart.com/v1/AUTH_svc.pdoc00001/ids-c-prod-lpp/1024/2d3150f5b3204695bbd0b493ee309eb0_thb.jpg',\n",
              " 'https://cs.copart.com/v1/AUTH_svc.pdoc00001/ids-c-prod-lpp/1024/7f9e6e6d3ceb4ca8b3177e2338cbc10a_thb.jpg',\n",
              " 'https://cs.copart.com/v1/AUTH_svc.pdoc00001/ids-c-prod-lpp/1024/f5dbecdc070d496395afaad5a2e51dc4_thb.jpg',\n",
              " 'https://cs.copart.com/v1/AUTH_svc.pdoc00001/ids-c-prod-lpp/1024/9c55cfa2f3bd476a9de01dbd49d3d18c_thb.jpg',\n",
              " 'https://cs.copart.com/v1/AUTH_svc.pdoc00001/ids-c-prod-lpp/1024/8afda5307efb483ba9695b324d6328a6_thb.jpg',\n",
              " '/build/spa/images/overlays-registeroverlay-img/thumbnail.bcd9772d.jpg',\n",
              " 'https://cs.copart.com/v1/AUTH_svc.pdoc00001/ids-c-prod-lpp/1124/85780d6ded8d4b848a7c1c74ac9ae528_thb.jpg',\n",
              " 'https://cs.copart.com/v1/AUTH_svc.pdoc00001/ids-c-prod-lpp/1124/0848c32d52994039b06ba818efdcf1a8_thb.jpg',\n",
              " 'https://cs.copart.com/v1/AUTH_svc.pdoc00001/ids-c-prod-lpp/1124/b84558b7e2f2448aab4af820569576e4_thb.jpg',\n",
              " 'https://cs.copart.com/v1/AUTH_svc.pdoc00001/ids-c-prod-lpp/1124/5e095253c35f444eacc117f8e2288e61_thb.jpg',\n",
              " 'https://cs.copart.com/v1/AUTH_svc.pdoc00001/ids-c-prod-lpp/1124/30468b804ebd4fc3a003f7e591371fe9_thb.jpg',\n",
              " 'https://cs.copart.com/v1/AUTH_svc.pdoc00001/ids-c-prod-lpp/1124/9d8389362e4240d69944e800de4dc344_thb.jpg',\n",
              " 'https://cs.copart.com/v1/AUTH_svc.pdoc00001/ids-c-prod-lpp/1124/987b5866dd474954b9121b7e78784295_thb.jpg',\n",
              " 'https://cs.copart.com/v1/AUTH_svc.pdoc00001/ids-c-prod-lpp/1124/1fd376bab8534e5a8bf7a32f124f4c34_thb.jpg',\n",
              " 'https://cs.copart.com/v1/AUTH_svc.pdoc00001/ids-c-prod-lpp/1124/75b5c679ce8a4e61a127ee281af82673_thb.jpg',\n",
              " 'https://cs.copart.com/v1/AUTH_svc.pdoc00001/ids-c-prod-lpp/1124/e6fd27f7679442d5b032b3081aca7b44_thb.jpg',\n",
              " 'https://cs.copart.com/v1/AUTH_svc.pdoc00001/ids-c-prod-lpp/1124/3b5c801a4a864953876e3b8bc353bfdd_thb.jpg',\n",
              " 'https://cs.copart.com/v1/AUTH_svc.pdoc00001/ids-c-prod-lpp/1124/072bebabc726412b8f01f3b5d390c4da_thb.jpg',\n",
              " 'https://cs.copart.com/v1/AUTH_svc.pdoc00001/ids-c-prod-lpp/1124/1084d7f00ab44d9ba9af4488ec00a566_thb.jpg',\n",
              " '/build/spa/images/overlays-registeroverlay-img/thumbnail.bcd9772d.jpg',\n",
              " 'https://cs.copart.com/v1/AUTH_svc.pdoc00001/ids-c-prod-lpp/1124/b6306501a4ac454bb52024e8569ccf6a_thb.jpg',\n",
              " 'https://cs.copart.com/v1/AUTH_svc.pdoc00001/ids-c-prod-lpp/1124/c7887888f8f5419ca7793e31c28828e4_thb.jpg',\n",
              " 'https://cs.copart.com/v1/AUTH_svc.pdoc00001/ids-c-prod-lpp/1124/8bce7653b1574c11ba4c0e7f213108ad_thb.jpg',\n",
              " 'https://cs.copart.com/v1/AUTH_svc.pdoc00001/ids-c-prod-lpp/1124/4cd75954a0534d74ac47aaa71af6ac0e_thb.jpg',\n",
              " 'https://cs.copart.com/v1/AUTH_svc.pdoc00001/ids-c-prod-lpp/1124/a521ec128e054432950202d9a75f3f39_thb.jpg',\n",
              " 'https://cs.copart.com/v1/AUTH_svc.pdoc00001/ids-c-prod-lpp/1124/b0cfa505def5440e876d360b873eaa0f_thb.jpg',\n",
              " 'https://cs.copart.com/v1/AUTH_svc.pdoc00001/ids-c-prod-lpp/1124/7effa476bf2c49919d2897680e2a2cf2_thb.jpg',\n",
              " 'https://cs.copart.com/v1/AUTH_svc.pdoc00001/ids-c-prod-lpp/1124/b6198f4238fd45119ba12a292f246b62_thb.jpg',\n",
              " 'https://cs.copart.com/v1/AUTH_svc.pdoc00001/ids-c-prod-lpp/1124/6a23c4bf25b140bc815d2671bef05916_thb.jpg',\n",
              " 'https://cs.copart.com/v1/AUTH_svc.pdoc00001/ids-c-prod-lpp/1124/ab16ba07df6d4b8ca6a8c120daa26b8c_thb.jpg',\n",
              " 'https://cs.copart.com/v1/AUTH_svc.pdoc00001/ids-c-prod-lpp/1124/8332fcb7e12b4c0cb6396c9c37ea4b7c_thb.jpg',\n",
              " 'https://cs.copart.com/v1/AUTH_svc.pdoc00001/ids-c-prod-lpp/1124/a783b8217b5143a7a630b5137dbeed89_thb.jpg',\n",
              " '/build/spa/images/overlays-registeroverlay-img/thumbnail.bcd9772d.jpg',\n",
              " 'https://cs.copart.com/v1/AUTH_svc.pdoc00001/ids-c-prod-lpp/1124/e3f5a471858e4ecb901d1b991d337cc9_thb.jpg',\n",
              " 'https://cs.copart.com/v1/AUTH_svc.pdoc00001/ids-c-prod-lpp/1124/894d76b3e2574bb1a30d2a74e9f17b03_thb.jpg',\n",
              " 'https://cs.copart.com/v1/AUTH_svc.pdoc00001/ids-c-prod-lpp/1124/961fdc3b49fd47d0bb165e6fbac655ea_thb.jpg',\n",
              " 'https://cs.copart.com/v1/AUTH_svc.pdoc00001/ids-c-prod-lpp/1124/5d91051bf5c445f3ba015a10159d8cf8_thb.jpg',\n",
              " 'https://cs.copart.com/v1/AUTH_svc.pdoc00001/ids-c-prod-lpp/1124/1b1d27a350914ff9aa9aebc0025352c1_thb.jpg',\n",
              " 'https://cs.copart.com/v1/AUTH_svc.pdoc00001/ids-c-prod-lpp/1124/75667d0ac3364578b4b6e686ff37f4f2_thb.jpg',\n",
              " 'https://cs.copart.com/v1/AUTH_svc.pdoc00001/ids-c-prod-lpp/1124/0a847f37a7b540fb8e293eef0fa11955_thb.jpg',\n",
              " 'https://cs.copart.com/v1/AUTH_svc.pdoc00001/ids-c-prod-lpp/1124/5cd5d497f007497eb506362dd6c72e15_thb.jpg',\n",
              " 'https://cs.copart.com/v1/AUTH_svc.pdoc00001/ids-c-prod-lpp/1124/5bbac1b0ae9a42bbba7bbf5865391cb3_thb.jpg',\n",
              " 'https://cs.copart.com/v1/AUTH_svc.pdoc00001/ids-c-prod-lpp/1124/0b74d0449e2e40a692a45e60415914fe_thb.jpg',\n",
              " 'https://cs.copart.com/v1/AUTH_svc.pdoc00001/ids-c-prod-lpp/1124/f69275912ac945039162c7c33391cd7c_thb.jpg',\n",
              " 'https://cs.copart.com/v1/AUTH_svc.pdoc00001/ids-c-prod-lpp/1124/d7b4b078a5ef4abe83c84b58350765f1_thb.jpg',\n",
              " 'https://cs.copart.com/v1/AUTH_svc.pdoc00001/ids-c-prod-lpp/1124/3ae8077e56f6435e9a39d91256c29332_thb.jpg',\n",
              " '/build/spa/images/overlays-registeroverlay-img/thumbnail.bcd9772d.jpg']"
            ]
          },
          "metadata": {},
          "execution_count": 19
        }
      ]
    },
    {
      "cell_type": "code",
      "execution_count": 21,
      "metadata": {
        "id": "wBchA3YojsCM"
      },
      "outputs": [],
      "source": [
        "## the target string serves as an indication of a new set of car images\n",
        "target_string = \"/build/spa/images/\"\n",
        "result_links = []\n",
        "temp_links = []  # Temporary storage\n",
        "\n",
        "for link in image_urls:\n",
        "  if target_string in link:\n",
        "    result_links.append(temp_links[4])  ## Keep the 5th link as this is the front damage in a car\n",
        "    result_links.append(link)\n",
        "    temp_links = [] # Reset temporary list\n",
        "  else:\n",
        "    temp_links.append(link)\n",
        "\n",
        "result_links.extend(temp_links)  # Add any remaining links"
      ]
    },
    {
      "cell_type": "code",
      "execution_count": 22,
      "metadata": {
        "colab": {
          "base_uri": "https://localhost:8080/"
        },
        "id": "DHJwA-nVjTL6",
        "outputId": "e5b095ab-1321-4265-ee38-36caa71db1d8",
        "collapsed": true
      },
      "outputs": [
        {
          "output_type": "stream",
          "name": "stdout",
          "text": [
            "There are a total of 98 items in the list\n"
          ]
        },
        {
          "output_type": "execute_result",
          "data": {
            "text/plain": [
              "['https://cs.copart.com/v1/AUTH_svc.pdoc00001/ids-c-prod-lpp/0225/c413ba1cfea444d3a2bd6f09674069ec_thb.jpg',\n",
              " '/build/spa/images/overlays-registeroverlay-img/thumbnail.bcd9772d.jpg',\n",
              " 'https://cs.copart.com/v1/AUTH_svc.pdoc00001/ids-c-prod-lpp/0125/9abb9e2d3b67446fb8dcd4e4a1b31325_thb.jpg',\n",
              " '/build/spa/images/overlays-registeroverlay-img/thumbnail.bcd9772d.jpg',\n",
              " 'https://cs.copart.com/v1/AUTH_svc.pdoc00001/ids-c-prod-lpp/0225/8cbf198d01434abba0cf3d9907964e82_thb.jpg',\n",
              " '/build/spa/images/overlays-registeroverlay-img/thumbnail.bcd9772d.jpg',\n",
              " 'https://cs.copart.com/v1/AUTH_svc.pdoc00001/ids-c-prod-lpp/0225/8a3e722f1c2b4b54880a97ebe49d62bb_thb.jpg',\n",
              " '/build/spa/images/overlays-registeroverlay-img/thumbnail.bcd9772d.jpg',\n",
              " 'https://cs.copart.com/v1/AUTH_svc.pdoc00001/ids-c-prod-lpp/0125/55b0857bccce4b4cbfcbf234e39cdfb5_thb.jpg',\n",
              " '/build/spa/images/overlays-registeroverlay-img/thumbnail.bcd9772d.jpg',\n",
              " 'https://cs.copart.com/v1/AUTH_svc.pdoc00001/ids-c-prod-lpp/0125/700ddbce3cbc418db24f586845b815f4_thb.jpg',\n",
              " '/build/spa/images/overlays-registeroverlay-img/thumbnail.bcd9772d.jpg',\n",
              " 'https://cs.copart.com/v1/AUTH_svc.pdoc00001/ids-c-prod-lpp/0125/4fc4ae0321b64cad887d72cc93396c80_thb.jpg',\n",
              " '/build/spa/images/overlays-registeroverlay-img/thumbnail.bcd9772d.jpg',\n",
              " 'https://cs.copart.com/v1/AUTH_svc.pdoc00001/ids-c-prod-lpp/1224/6b21364744bf46e98ed49dc0ecb139a7_thb.jpg',\n",
              " '/build/spa/images/overlays-registeroverlay-img/thumbnail.bcd9772d.jpg',\n",
              " 'https://cs.copart.com/v1/AUTH_svc.pdoc00001/ids-c-prod-lpp/1224/55b92fe86f294d91b09619f08a11974b_thb.jpg',\n",
              " '/build/spa/images/overlays-registeroverlay-img/thumbnail.bcd9772d.jpg',\n",
              " 'https://cs.copart.com/v1/AUTH_svc.pdoc00001/ids-c-prod-lpp/0125/0f31b292512340578be23ca11cbc2e59_thb.jpg',\n",
              " '/build/spa/images/overlays-registeroverlay-img/thumbnail.bcd9772d.jpg',\n",
              " 'https://cs.copart.com/v1/AUTH_svc.pdoc00001/ids-c-prod-lpp/1224/80a4f3fa18134da88beb0a0537577dd4_thb.jpg',\n",
              " '/build/spa/images/overlays-registeroverlay-img/thumbnail.bcd9772d.jpg',\n",
              " 'https://cs.copart.com/v1/AUTH_svc.pdoc00001/ids-c-prod-lpp/1224/89147fdd8efc4e27b95b7bcd07f69c0d_thb.jpg',\n",
              " '/build/spa/images/overlays-registeroverlay-img/thumbnail.bcd9772d.jpg',\n",
              " 'https://cs.copart.com/v1/AUTH_svc.pdoc00001/ids-c-prod-lpp/0125/d33a9f54126b4bb2968fb82a658fd111_thb.jpg',\n",
              " '/build/spa/images/overlays-registeroverlay-img/thumbnail.bcd9772d.jpg',\n",
              " 'https://cs.copart.com/v1/AUTH_svc.pdoc00001/ids-c-prod-lpp/0125/38e525bb99ce42629e12e4fc03035053_thb.jpg',\n",
              " '/build/spa/images/overlays-registeroverlay-img/thumbnail.bcd9772d.jpg',\n",
              " 'https://cs.copart.com/v1/AUTH_svc.pdoc00001/ids-c-prod-lpp/0225/769d2dbad8a54ede8f0b53d388a2261d_thb.jpg',\n",
              " '/build/spa/images/overlays-registeroverlay-img/thumbnail.bcd9772d.jpg',\n",
              " 'https://cs.copart.com/v1/AUTH_svc.pdoc00001/ids-c-prod-lpp/1224/0998f687ecab469ead2cd6f4c0a09af2_thb.jpg',\n",
              " '/build/spa/images/overlays-registeroverlay-img/thumbnail.bcd9772d.jpg',\n",
              " 'https://cs.copart.com/v1/AUTH_svc.pdoc00001/ids-c-prod-lpp/1124/eb7fc99e88144fd1b92b9a0dd14bfcc7_thb.jpg',\n",
              " '/build/spa/images/overlays-registeroverlay-img/thumbnail.bcd9772d.jpg',\n",
              " 'https://cs.copart.com/v1/AUTH_svc.pdoc00001/ids-c-prod-lpp/0125/0656b414550b4e65b3e693ddc4b773b0_thb.jpg',\n",
              " '/build/spa/images/overlays-registeroverlay-img/thumbnail.bcd9772d.jpg',\n",
              " 'https://cs.copart.com/v1/AUTH_svc.pdoc00001/ids-c-prod-lpp/1224/fe4adb92a263424f9e687593a0b1e22c_thb.jpg',\n",
              " '/build/spa/images/overlays-registeroverlay-img/thumbnail.bcd9772d.jpg',\n",
              " 'https://cs.copart.com/v1/AUTH_svc.pdoc00001/ids-c-prod-lpp/0125/725b8b91a7a742419518128e74565a3f_thb.jpg',\n",
              " '/build/spa/images/overlays-registeroverlay-img/thumbnail.bcd9772d.jpg',\n",
              " 'https://cs.copart.com/v1/AUTH_svc.pdoc00001/ids-c-prod-lpp/1224/f7073be5d59443979371261623fdd017_thb.jpg',\n",
              " '/build/spa/images/overlays-registeroverlay-img/thumbnail.bcd9772d.jpg',\n",
              " 'https://cs.copart.com/v1/AUTH_svc.pdoc00001/ids-c-prod-lpp/0125/c23c56a55bf34e5d90fcdc8b67661aeb_thb.jpg',\n",
              " '/build/spa/images/overlays-registeroverlay-img/thumbnail.bcd9772d.jpg',\n",
              " 'https://cs.copart.com/v1/AUTH_svc.pdoc00001/ids-c-prod-lpp/0125/ed893b8f4a934b64b1ab92c3ca4ad9a7_thb.jpg',\n",
              " '/build/spa/images/overlays-registeroverlay-img/thumbnail.bcd9772d.jpg',\n",
              " 'https://cs.copart.com/v1/AUTH_svc.pdoc00001/ids-c-prod-lpp/1124/609fc084960d413db9b5211bd8ce8b82_thb.jpg',\n",
              " '/build/spa/images/overlays-registeroverlay-img/thumbnail.bcd9772d.jpg',\n",
              " 'https://cs.copart.com/v1/AUTH_svc.pdoc00001/ids-c-prod-lpp/0125/f0d1982e23c64e37ba7f93647cb6d9d1_thb.jpg',\n",
              " '/build/spa/images/overlays-registeroverlay-img/thumbnail.bcd9772d.jpg',\n",
              " 'https://cs.copart.com/v1/AUTH_svc.pdoc00001/ids-c-prod-lpp/0225/1e0b2d3665164159860d795d652d1610_thb.jpg',\n",
              " '/build/spa/images/overlays-registeroverlay-img/thumbnail.bcd9772d.jpg',\n",
              " 'https://cs.copart.com/v1/AUTH_svc.pdoc00001/ids-c-prod-lpp/0125/ae90bef00df94a64a993d8a356e53f37_thb.jpg',\n",
              " '/build/spa/images/overlays-registeroverlay-img/thumbnail.bcd9772d.jpg',\n",
              " 'https://cs.copart.com/v1/AUTH_svc.pdoc00001/ids-c-prod-lpp/0125/31139450fa394c17aae549f69f216c23_thb.jpg',\n",
              " '/build/spa/images/overlays-registeroverlay-img/thumbnail.bcd9772d.jpg',\n",
              " 'https://cs.copart.com/v1/AUTH_svc.pdoc00001/ids-c-prod-lpp/0125/8bfc412a21284bbd86ff7667a76b08d5_thb.jpg',\n",
              " '/build/spa/images/overlays-registeroverlay-img/thumbnail.bcd9772d.jpg',\n",
              " 'https://cs.copart.com/v1/AUTH_svc.pdoc00001/ids-c-prod-lpp/1224/ae22c8aecf9849afa857e0d487fa23ef_thb.jpg',\n",
              " '/build/spa/images/overlays-registeroverlay-img/thumbnail.bcd9772d.jpg',\n",
              " 'https://cs.copart.com/v1/AUTH_svc.pdoc00001/ids-c-prod-lpp/0125/6d574174de824415ab10b8bda003a992_thb.jpg',\n",
              " '/build/spa/images/overlays-registeroverlay-img/thumbnail.bcd9772d.jpg',\n",
              " 'https://cs.copart.com/v1/AUTH_svc.pdoc00001/ids-c-prod-lpp/0125/359b1f210172423289055c3eace2d4ae_thb.jpg',\n",
              " '/build/spa/images/overlays-registeroverlay-img/thumbnail.bcd9772d.jpg',\n",
              " 'https://cs.copart.com/v1/AUTH_svc.pdoc00001/ids-c-prod-lpp/0225/6524cff1e7914ec6a22d136446b24205_thb.jpg',\n",
              " '/build/spa/images/overlays-registeroverlay-img/thumbnail.bcd9772d.jpg',\n",
              " 'https://cs.copart.com/v1/AUTH_svc.pdoc00001/ids-c-prod-lpp/0125/db6ed769924a4ed5839411bc36590105_thb.jpg',\n",
              " '/build/spa/images/overlays-registeroverlay-img/thumbnail.bcd9772d.jpg',\n",
              " 'https://cs.copart.com/v1/AUTH_svc.pdoc00001/ids-c-prod-lpp/0225/34aa447777bc4782a20fb87d28e0ec1a_thb.jpg',\n",
              " '/build/spa/images/overlays-registeroverlay-img/thumbnail.bcd9772d.jpg',\n",
              " 'https://cs.copart.com/v1/AUTH_svc.pdoc00001/ids-c-prod-lpp/0225/e37f3380b9ec4797b9b098374137c36c_thb.jpg',\n",
              " '/build/spa/images/overlays-registeroverlay-img/thumbnail.bcd9772d.jpg',\n",
              " 'https://cs.copart.com/v1/AUTH_svc.pdoc00001/ids-c-prod-lpp/0125/267182570b6149f6a4aca95eb94c513b_thb.jpg',\n",
              " '/build/spa/images/overlays-registeroverlay-img/thumbnail.bcd9772d.jpg',\n",
              " 'https://cs.copart.com/v1/AUTH_svc.pdoc00001/ids-c-prod-lpp/0125/8c9d9f01a3c54c438cd2f8e78a334bb6_thb.jpg',\n",
              " '/build/spa/images/overlays-registeroverlay-img/thumbnail.bcd9772d.jpg',\n",
              " 'https://cs.copart.com/v1/AUTH_svc.pdoc00001/ids-c-prod-lpp/0125/f5eaf316cb774d4894210ac79ea21b6d_thb.jpg',\n",
              " '/build/spa/images/overlays-registeroverlay-img/thumbnail.bcd9772d.jpg',\n",
              " 'https://cs.copart.com/v1/AUTH_svc.pdoc00001/ids-c-prod-lpp/1224/38449682266f489d95b3de75c961b100_thb.jpg',\n",
              " '/build/spa/images/overlays-registeroverlay-img/thumbnail.bcd9772d.jpg',\n",
              " 'https://cs.copart.com/v1/AUTH_svc.pdoc00001/ids-c-prod-lpp/0125/31139450fa394c17aae549f69f216c23_thb.jpg',\n",
              " '/build/spa/images/overlays-registeroverlay-img/thumbnail.bcd9772d.jpg',\n",
              " 'https://cs.copart.com/v1/AUTH_svc.pdoc00001/ids-c-prod-lpp/0125/8bfc412a21284bbd86ff7667a76b08d5_thb.jpg',\n",
              " '/build/spa/images/overlays-registeroverlay-img/thumbnail.bcd9772d.jpg',\n",
              " 'https://cs.copart.com/v1/AUTH_svc.pdoc00001/ids-c-prod-lpp/0225/d8796fea26004194bffa02c2b579c68c_thb.jpg',\n",
              " '/build/spa/images/overlays-registeroverlay-img/thumbnail.bcd9772d.jpg',\n",
              " 'https://cs.copart.com/v1/AUTH_svc.pdoc00001/ids-c-prod-lpp/0225/d58490ee31ca4c598b9fdaf5ee39791a_thb.jpg',\n",
              " '/build/spa/images/overlays-registeroverlay-img/thumbnail.bcd9772d.jpg',\n",
              " 'https://cs.copart.com/v1/AUTH_svc.pdoc00001/ids-c-prod-lpp/0225/32debd1e050d4417b448d24a5c0bfd6c_thb.jpg',\n",
              " '/build/spa/images/overlays-registeroverlay-img/thumbnail.bcd9772d.jpg',\n",
              " 'https://cs.copart.com/v1/AUTH_svc.pdoc00001/ids-c-prod-lpp/1024/64c56439cde544c18a8f06bfc256fedd_thb.jpg',\n",
              " '/build/spa/images/overlays-registeroverlay-img/thumbnail.bcd9772d.jpg',\n",
              " 'https://cs.copart.com/v1/AUTH_svc.pdoc00001/ids-c-prod-lpp/1124/30468b804ebd4fc3a003f7e591371fe9_thb.jpg',\n",
              " '/build/spa/images/overlays-registeroverlay-img/thumbnail.bcd9772d.jpg',\n",
              " 'https://cs.copart.com/v1/AUTH_svc.pdoc00001/ids-c-prod-lpp/1124/a521ec128e054432950202d9a75f3f39_thb.jpg',\n",
              " '/build/spa/images/overlays-registeroverlay-img/thumbnail.bcd9772d.jpg',\n",
              " 'https://cs.copart.com/v1/AUTH_svc.pdoc00001/ids-c-prod-lpp/1124/1b1d27a350914ff9aa9aebc0025352c1_thb.jpg',\n",
              " '/build/spa/images/overlays-registeroverlay-img/thumbnail.bcd9772d.jpg']"
            ]
          },
          "metadata": {},
          "execution_count": 22
        }
      ],
      "source": [
        "## checking resulting list\n",
        "print(\"There are a total of\", len(result_links), \"items in the list\")\n",
        "\n",
        "result_links"
      ]
    },
    {
      "cell_type": "code",
      "execution_count": 23,
      "metadata": {
        "id": "65fsN4fVBiPN"
      },
      "outputs": [],
      "source": [
        "## remove the unnecessary image in the list\n",
        "temp_url = [x for x in result_links if \"/build/spa/images/\" not in x]\n",
        "\n",
        "## replace the thumbnail as a full image\n",
        "new_urls = [url.replace(\"_thb\", \"_ful\") for url in temp_url]"
      ]
    },
    {
      "cell_type": "code",
      "execution_count": 24,
      "metadata": {
        "colab": {
          "base_uri": "https://localhost:8080/"
        },
        "id": "hLj2jkHmgA0X",
        "outputId": "76d6551e-5538-4afd-cb5b-d93448a7e492",
        "collapsed": true
      },
      "outputs": [
        {
          "output_type": "stream",
          "name": "stdout",
          "text": [
            "There are 49 in the list\n"
          ]
        },
        {
          "output_type": "execute_result",
          "data": {
            "text/plain": [
              "['https://cs.copart.com/v1/AUTH_svc.pdoc00001/ids-c-prod-lpp/0225/c413ba1cfea444d3a2bd6f09674069ec_ful.jpg',\n",
              " 'https://cs.copart.com/v1/AUTH_svc.pdoc00001/ids-c-prod-lpp/0125/9abb9e2d3b67446fb8dcd4e4a1b31325_ful.jpg',\n",
              " 'https://cs.copart.com/v1/AUTH_svc.pdoc00001/ids-c-prod-lpp/0225/8cbf198d01434abba0cf3d9907964e82_ful.jpg',\n",
              " 'https://cs.copart.com/v1/AUTH_svc.pdoc00001/ids-c-prod-lpp/0225/8a3e722f1c2b4b54880a97ebe49d62bb_ful.jpg',\n",
              " 'https://cs.copart.com/v1/AUTH_svc.pdoc00001/ids-c-prod-lpp/0125/55b0857bccce4b4cbfcbf234e39cdfb5_ful.jpg',\n",
              " 'https://cs.copart.com/v1/AUTH_svc.pdoc00001/ids-c-prod-lpp/0125/700ddbce3cbc418db24f586845b815f4_ful.jpg',\n",
              " 'https://cs.copart.com/v1/AUTH_svc.pdoc00001/ids-c-prod-lpp/0125/4fc4ae0321b64cad887d72cc93396c80_ful.jpg',\n",
              " 'https://cs.copart.com/v1/AUTH_svc.pdoc00001/ids-c-prod-lpp/1224/6b21364744bf46e98ed49dc0ecb139a7_ful.jpg',\n",
              " 'https://cs.copart.com/v1/AUTH_svc.pdoc00001/ids-c-prod-lpp/1224/55b92fe86f294d91b09619f08a11974b_ful.jpg',\n",
              " 'https://cs.copart.com/v1/AUTH_svc.pdoc00001/ids-c-prod-lpp/0125/0f31b292512340578be23ca11cbc2e59_ful.jpg',\n",
              " 'https://cs.copart.com/v1/AUTH_svc.pdoc00001/ids-c-prod-lpp/1224/80a4f3fa18134da88beb0a0537577dd4_ful.jpg',\n",
              " 'https://cs.copart.com/v1/AUTH_svc.pdoc00001/ids-c-prod-lpp/1224/89147fdd8efc4e27b95b7bcd07f69c0d_ful.jpg',\n",
              " 'https://cs.copart.com/v1/AUTH_svc.pdoc00001/ids-c-prod-lpp/0125/d33a9f54126b4bb2968fb82a658fd111_ful.jpg',\n",
              " 'https://cs.copart.com/v1/AUTH_svc.pdoc00001/ids-c-prod-lpp/0125/38e525bb99ce42629e12e4fc03035053_ful.jpg',\n",
              " 'https://cs.copart.com/v1/AUTH_svc.pdoc00001/ids-c-prod-lpp/0225/769d2dbad8a54ede8f0b53d388a2261d_ful.jpg',\n",
              " 'https://cs.copart.com/v1/AUTH_svc.pdoc00001/ids-c-prod-lpp/1224/0998f687ecab469ead2cd6f4c0a09af2_ful.jpg',\n",
              " 'https://cs.copart.com/v1/AUTH_svc.pdoc00001/ids-c-prod-lpp/1124/eb7fc99e88144fd1b92b9a0dd14bfcc7_ful.jpg',\n",
              " 'https://cs.copart.com/v1/AUTH_svc.pdoc00001/ids-c-prod-lpp/0125/0656b414550b4e65b3e693ddc4b773b0_ful.jpg',\n",
              " 'https://cs.copart.com/v1/AUTH_svc.pdoc00001/ids-c-prod-lpp/1224/fe4adb92a263424f9e687593a0b1e22c_ful.jpg',\n",
              " 'https://cs.copart.com/v1/AUTH_svc.pdoc00001/ids-c-prod-lpp/0125/725b8b91a7a742419518128e74565a3f_ful.jpg',\n",
              " 'https://cs.copart.com/v1/AUTH_svc.pdoc00001/ids-c-prod-lpp/1224/f7073be5d59443979371261623fdd017_ful.jpg',\n",
              " 'https://cs.copart.com/v1/AUTH_svc.pdoc00001/ids-c-prod-lpp/0125/c23c56a55bf34e5d90fcdc8b67661aeb_ful.jpg',\n",
              " 'https://cs.copart.com/v1/AUTH_svc.pdoc00001/ids-c-prod-lpp/0125/ed893b8f4a934b64b1ab92c3ca4ad9a7_ful.jpg',\n",
              " 'https://cs.copart.com/v1/AUTH_svc.pdoc00001/ids-c-prod-lpp/1124/609fc084960d413db9b5211bd8ce8b82_ful.jpg',\n",
              " 'https://cs.copart.com/v1/AUTH_svc.pdoc00001/ids-c-prod-lpp/0125/f0d1982e23c64e37ba7f93647cb6d9d1_ful.jpg',\n",
              " 'https://cs.copart.com/v1/AUTH_svc.pdoc00001/ids-c-prod-lpp/0225/1e0b2d3665164159860d795d652d1610_ful.jpg',\n",
              " 'https://cs.copart.com/v1/AUTH_svc.pdoc00001/ids-c-prod-lpp/0125/ae90bef00df94a64a993d8a356e53f37_ful.jpg',\n",
              " 'https://cs.copart.com/v1/AUTH_svc.pdoc00001/ids-c-prod-lpp/0125/31139450fa394c17aae549f69f216c23_ful.jpg',\n",
              " 'https://cs.copart.com/v1/AUTH_svc.pdoc00001/ids-c-prod-lpp/0125/8bfc412a21284bbd86ff7667a76b08d5_ful.jpg',\n",
              " 'https://cs.copart.com/v1/AUTH_svc.pdoc00001/ids-c-prod-lpp/1224/ae22c8aecf9849afa857e0d487fa23ef_ful.jpg',\n",
              " 'https://cs.copart.com/v1/AUTH_svc.pdoc00001/ids-c-prod-lpp/0125/6d574174de824415ab10b8bda003a992_ful.jpg',\n",
              " 'https://cs.copart.com/v1/AUTH_svc.pdoc00001/ids-c-prod-lpp/0125/359b1f210172423289055c3eace2d4ae_ful.jpg',\n",
              " 'https://cs.copart.com/v1/AUTH_svc.pdoc00001/ids-c-prod-lpp/0225/6524cff1e7914ec6a22d136446b24205_ful.jpg',\n",
              " 'https://cs.copart.com/v1/AUTH_svc.pdoc00001/ids-c-prod-lpp/0125/db6ed769924a4ed5839411bc36590105_ful.jpg',\n",
              " 'https://cs.copart.com/v1/AUTH_svc.pdoc00001/ids-c-prod-lpp/0225/34aa447777bc4782a20fb87d28e0ec1a_ful.jpg',\n",
              " 'https://cs.copart.com/v1/AUTH_svc.pdoc00001/ids-c-prod-lpp/0225/e37f3380b9ec4797b9b098374137c36c_ful.jpg',\n",
              " 'https://cs.copart.com/v1/AUTH_svc.pdoc00001/ids-c-prod-lpp/0125/267182570b6149f6a4aca95eb94c513b_ful.jpg',\n",
              " 'https://cs.copart.com/v1/AUTH_svc.pdoc00001/ids-c-prod-lpp/0125/8c9d9f01a3c54c438cd2f8e78a334bb6_ful.jpg',\n",
              " 'https://cs.copart.com/v1/AUTH_svc.pdoc00001/ids-c-prod-lpp/0125/f5eaf316cb774d4894210ac79ea21b6d_ful.jpg',\n",
              " 'https://cs.copart.com/v1/AUTH_svc.pdoc00001/ids-c-prod-lpp/1224/38449682266f489d95b3de75c961b100_ful.jpg',\n",
              " 'https://cs.copart.com/v1/AUTH_svc.pdoc00001/ids-c-prod-lpp/0125/31139450fa394c17aae549f69f216c23_ful.jpg',\n",
              " 'https://cs.copart.com/v1/AUTH_svc.pdoc00001/ids-c-prod-lpp/0125/8bfc412a21284bbd86ff7667a76b08d5_ful.jpg',\n",
              " 'https://cs.copart.com/v1/AUTH_svc.pdoc00001/ids-c-prod-lpp/0225/d8796fea26004194bffa02c2b579c68c_ful.jpg',\n",
              " 'https://cs.copart.com/v1/AUTH_svc.pdoc00001/ids-c-prod-lpp/0225/d58490ee31ca4c598b9fdaf5ee39791a_ful.jpg',\n",
              " 'https://cs.copart.com/v1/AUTH_svc.pdoc00001/ids-c-prod-lpp/0225/32debd1e050d4417b448d24a5c0bfd6c_ful.jpg',\n",
              " 'https://cs.copart.com/v1/AUTH_svc.pdoc00001/ids-c-prod-lpp/1024/64c56439cde544c18a8f06bfc256fedd_ful.jpg',\n",
              " 'https://cs.copart.com/v1/AUTH_svc.pdoc00001/ids-c-prod-lpp/1124/30468b804ebd4fc3a003f7e591371fe9_ful.jpg',\n",
              " 'https://cs.copart.com/v1/AUTH_svc.pdoc00001/ids-c-prod-lpp/1124/a521ec128e054432950202d9a75f3f39_ful.jpg',\n",
              " 'https://cs.copart.com/v1/AUTH_svc.pdoc00001/ids-c-prod-lpp/1124/1b1d27a350914ff9aa9aebc0025352c1_ful.jpg']"
            ]
          },
          "metadata": {},
          "execution_count": 24
        }
      ],
      "source": [
        "## checking the final list of front car damage\n",
        "print(\"There are\", len(new_urls), \"in the list\")\n",
        "\n",
        "new_urls"
      ]
    },
    {
      "cell_type": "markdown",
      "metadata": {
        "id": "TwhrVn3dt0h4"
      },
      "source": [
        "### **Save Images to Drive Folder**"
      ]
    },
    {
      "cell_type": "code",
      "execution_count": 27,
      "metadata": {
        "id": "WQCB7x-6CEAG"
      },
      "outputs": [],
      "source": [
        "## set folder path\n",
        "data_path = \"/content/drive/My Drive/Colab Notebooks/Data/Scraped Data/Car Damage/Front\""
      ]
    },
    {
      "cell_type": "code",
      "execution_count": 28,
      "metadata": {
        "id": "l1Ip96uVn4t_"
      },
      "outputs": [],
      "source": [
        "for img in new_urls:\n",
        "  ## Store the content from the URL to a variable\n",
        "  image_content = requests.get(img).content\n",
        "\n",
        "  ## Create a byte object out of image_content and store it in the variable image_file\n",
        "  image_file = io.BytesIO(image_content)\n",
        "\n",
        "  ## Use Pillow to convert the Python object to an RGB image\n",
        "  image = Image.open(image_file).convert(\"RGB\")\n",
        "\n",
        "  ## Set a file_path variable that points to your directory.\n",
        "  ## Create a file based on the sha1 hash of 'image_content'.\n",
        "  ## Use .hexdigest to convert it into a string.\n",
        "  file_path = Path(data_path, hashlib.sha1(image_content).hexdigest()[:10] + \".jpeg\")\n",
        "  image.save(file_path, \"JPEG\", quality=120)"
      ]
    },
    {
      "cell_type": "markdown",
      "source": [
        "Repeat the same process for every car panel."
      ],
      "metadata": {
        "id": "SAOKC35lnmgL"
      }
    },
    {
      "cell_type": "code",
      "source": [],
      "metadata": {
        "id": "PIE2jmcDnrPf"
      },
      "execution_count": null,
      "outputs": []
    }
  ],
  "metadata": {
    "colab": {
      "provenance": [],
      "gpuType": "T4"
    },
    "kernelspec": {
      "display_name": "Python 3",
      "name": "python3"
    },
    "language_info": {
      "name": "python"
    },
    "accelerator": "GPU"
  },
  "nbformat": 4,
  "nbformat_minor": 0
}